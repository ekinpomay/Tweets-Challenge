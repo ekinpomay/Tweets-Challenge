{
 "cells": [
  {
   "cell_type": "code",
   "execution_count": 71,
   "id": "4ee4612f-7e9e-4e00-b46f-119da8ee57e9",
   "metadata": {},
   "outputs": [],
   "source": [
    "import pandas as pd\n",
    "import numpy as np\n",
    "import matplotlib.pyplot as plt\n",
    "\n",
    "from sklearn.model_selection import train_test_split\n",
    "from sklearn.preprocessing import LabelEncoder\n",
    "from sklearn.metrics import confusion_matrix, classification_report\n",
    "\n",
    "import nltk \n",
    "from nltk.corpus import stopwords\n",
    "from nltk.stem import WordNetLemmatizer\n",
    "\n",
    "import re\n",
    "\n",
    "import spacy\n",
    "from spacy.lang.en.stop_words import STOP_WORDS\n",
    "\n",
    "from textblob import TextBlob"
   ]
  },
  {
   "cell_type": "markdown",
   "id": "15c96ff8-f6a3-45e5-b672-eeec64363032",
   "metadata": {},
   "source": [
    "# IMPORT THE DATASET"
   ]
  },
  {
   "cell_type": "code",
   "execution_count": 72,
   "id": "7ecaa2f3-8c00-443d-aa2f-c187d23b00f6",
   "metadata": {},
   "outputs": [
    {
     "data": {
      "text/html": [
       "<div>\n",
       "<style scoped>\n",
       "    .dataframe tbody tr th:only-of-type {\n",
       "        vertical-align: middle;\n",
       "    }\n",
       "\n",
       "    .dataframe tbody tr th {\n",
       "        vertical-align: top;\n",
       "    }\n",
       "\n",
       "    .dataframe thead th {\n",
       "        text-align: right;\n",
       "    }\n",
       "</style>\n",
       "<table border=\"1\" class=\"dataframe\">\n",
       "  <thead>\n",
       "    <tr style=\"text-align: right;\">\n",
       "      <th></th>\n",
       "      <th>source_created_at</th>\n",
       "      <th>author_id</th>\n",
       "      <th>text</th>\n",
       "      <th>source</th>\n",
       "      <th>language</th>\n",
       "      <th>longitude</th>\n",
       "      <th>latitude</th>\n",
       "      <th>id</th>\n",
       "      <th>source_id</th>\n",
       "      <th>tweet_id</th>\n",
       "      <th>user_id</th>\n",
       "      <th>relevant</th>\n",
       "      <th>topic</th>\n",
       "      <th>ground_truth</th>\n",
       "      <th>sentiment</th>\n",
       "    </tr>\n",
       "  </thead>\n",
       "  <tbody>\n",
       "    <tr>\n",
       "      <th>0</th>\n",
       "      <td>2020-09-18 21:56:20.798000</td>\n",
       "      <td>593731316</td>\n",
       "      <td>@DSisourath The Thameslink core between London...</td>\n",
       "      <td>sprinklr</td>\n",
       "      <td>en</td>\n",
       "      <td>-0.12574</td>\n",
       "      <td>51.50853</td>\n",
       "      <td>acd7673f-e621-5f1a-d662-df278964a6ea</td>\n",
       "      <td>NaN</td>\n",
       "      <td>acd7673f-e621-5f1a-d662-df278964a6ea</td>\n",
       "      <td>Z003XDCS</td>\n",
       "      <td>True</td>\n",
       "      <td>service</td>\n",
       "      <td>True</td>\n",
       "      <td>negative</td>\n",
       "    </tr>\n",
       "    <tr>\n",
       "      <th>1</th>\n",
       "      <td>2020-10-13 07:31:53.122000</td>\n",
       "      <td>745583289520496640</td>\n",
       "      <td>@DulwichHistory Loving the complaint about peo...</td>\n",
       "      <td>sprinklr</td>\n",
       "      <td>en</td>\n",
       "      <td>-0.12574</td>\n",
       "      <td>51.50853</td>\n",
       "      <td>5b92aba8-4b05-6c63-8485-e9c870742137</td>\n",
       "      <td>NaN</td>\n",
       "      <td>5b92aba8-4b05-6c63-8485-e9c870742137</td>\n",
       "      <td>Z003XDCS</td>\n",
       "      <td>True</td>\n",
       "      <td>delays</td>\n",
       "      <td>True</td>\n",
       "      <td>negative</td>\n",
       "    </tr>\n",
       "    <tr>\n",
       "      <th>2</th>\n",
       "      <td>2020-10-26 19:27:24.695000</td>\n",
       "      <td>303134761</td>\n",
       "      <td>@SW_Help .And yet you have no toilets on some ...</td>\n",
       "      <td>sprinklr</td>\n",
       "      <td>en</td>\n",
       "      <td>-0.12574</td>\n",
       "      <td>51.50853</td>\n",
       "      <td>0a799c07-8b76-17ba-b840-e538d51e832d</td>\n",
       "      <td>NaN</td>\n",
       "      <td>0a799c07-8b76-17ba-b840-e538d51e832d</td>\n",
       "      <td>Z003XDCS</td>\n",
       "      <td>True</td>\n",
       "      <td>toilets</td>\n",
       "      <td>True</td>\n",
       "      <td>negative</td>\n",
       "    </tr>\n",
       "    <tr>\n",
       "      <th>3</th>\n",
       "      <td>2020-10-26 19:28:49.281000</td>\n",
       "      <td>303134761</td>\n",
       "      <td>@SW_Help you have no toilets on some of your t...</td>\n",
       "      <td>sprinklr</td>\n",
       "      <td>en</td>\n",
       "      <td>-0.12574</td>\n",
       "      <td>51.50853</td>\n",
       "      <td>8b4d2a34-c4f0-0e19-4055-dfe4af5f0e14</td>\n",
       "      <td>NaN</td>\n",
       "      <td>8b4d2a34-c4f0-0e19-4055-dfe4af5f0e14</td>\n",
       "      <td>Z003XDCS</td>\n",
       "      <td>True</td>\n",
       "      <td>toilets</td>\n",
       "      <td>True</td>\n",
       "      <td>negative</td>\n",
       "    </tr>\n",
       "    <tr>\n",
       "      <th>4</th>\n",
       "      <td>2020-09-28 11:59:41.212000</td>\n",
       "      <td>56427671</td>\n",
       "      <td>@SpeedySticks007 @MrNeilJH @TLRailUK @christia...</td>\n",
       "      <td>sprinklr</td>\n",
       "      <td>en</td>\n",
       "      <td>-1.09125</td>\n",
       "      <td>50.79899</td>\n",
       "      <td>1fd08862-d8c7-0682-6b11-2603fba22d94</td>\n",
       "      <td>NaN</td>\n",
       "      <td>1fd08862-d8c7-0682-6b11-2603fba22d94</td>\n",
       "      <td>Z003XDCS</td>\n",
       "      <td>True</td>\n",
       "      <td>seats</td>\n",
       "      <td>True</td>\n",
       "      <td>neutral</td>\n",
       "    </tr>\n",
       "  </tbody>\n",
       "</table>\n",
       "</div>"
      ],
      "text/plain": [
       "            source_created_at           author_id  \\\n",
       "0  2020-09-18 21:56:20.798000           593731316   \n",
       "1  2020-10-13 07:31:53.122000  745583289520496640   \n",
       "2  2020-10-26 19:27:24.695000           303134761   \n",
       "3  2020-10-26 19:28:49.281000           303134761   \n",
       "4  2020-09-28 11:59:41.212000            56427671   \n",
       "\n",
       "                                                text    source language  \\\n",
       "0  @DSisourath The Thameslink core between London...  sprinklr       en   \n",
       "1  @DulwichHistory Loving the complaint about peo...  sprinklr       en   \n",
       "2  @SW_Help .And yet you have no toilets on some ...  sprinklr       en   \n",
       "3  @SW_Help you have no toilets on some of your t...  sprinklr       en   \n",
       "4  @SpeedySticks007 @MrNeilJH @TLRailUK @christia...  sprinklr       en   \n",
       "\n",
       "   longitude  latitude                                    id  source_id  \\\n",
       "0   -0.12574  51.50853  acd7673f-e621-5f1a-d662-df278964a6ea        NaN   \n",
       "1   -0.12574  51.50853  5b92aba8-4b05-6c63-8485-e9c870742137        NaN   \n",
       "2   -0.12574  51.50853  0a799c07-8b76-17ba-b840-e538d51e832d        NaN   \n",
       "3   -0.12574  51.50853  8b4d2a34-c4f0-0e19-4055-dfe4af5f0e14        NaN   \n",
       "4   -1.09125  50.79899  1fd08862-d8c7-0682-6b11-2603fba22d94        NaN   \n",
       "\n",
       "                               tweet_id   user_id  relevant    topic  \\\n",
       "0  acd7673f-e621-5f1a-d662-df278964a6ea  Z003XDCS      True  service   \n",
       "1  5b92aba8-4b05-6c63-8485-e9c870742137  Z003XDCS      True   delays   \n",
       "2  0a799c07-8b76-17ba-b840-e538d51e832d  Z003XDCS      True  toilets   \n",
       "3  8b4d2a34-c4f0-0e19-4055-dfe4af5f0e14  Z003XDCS      True  toilets   \n",
       "4  1fd08862-d8c7-0682-6b11-2603fba22d94  Z003XDCS      True    seats   \n",
       "\n",
       "   ground_truth sentiment  \n",
       "0          True  negative  \n",
       "1          True  negative  \n",
       "2          True  negative  \n",
       "3          True  negative  \n",
       "4          True   neutral  "
      ]
     },
     "execution_count": 72,
     "metadata": {},
     "output_type": "execute_result"
    }
   ],
   "source": [
    "data = pd.read_csv(r\"C:\\Users\\Ekin\\Desktop\\PM datasets\\tweets.csv\")\n",
    "data.head()"
   ]
  },
  {
   "cell_type": "markdown",
   "id": "5c7aed88",
   "metadata": {},
   "source": [
    "# REMOVE UNNECESSARY COLUMNS EXCEPT 'TEXT' & 'SENTIMENT'"
   ]
  },
  {
   "cell_type": "code",
   "execution_count": 73,
   "id": "2a701d7f",
   "metadata": {},
   "outputs": [
    {
     "data": {
      "text/html": [
       "<div>\n",
       "<style scoped>\n",
       "    .dataframe tbody tr th:only-of-type {\n",
       "        vertical-align: middle;\n",
       "    }\n",
       "\n",
       "    .dataframe tbody tr th {\n",
       "        vertical-align: top;\n",
       "    }\n",
       "\n",
       "    .dataframe thead th {\n",
       "        text-align: right;\n",
       "    }\n",
       "</style>\n",
       "<table border=\"1\" class=\"dataframe\">\n",
       "  <thead>\n",
       "    <tr style=\"text-align: right;\">\n",
       "      <th></th>\n",
       "      <th>text</th>\n",
       "      <th>sentiment</th>\n",
       "    </tr>\n",
       "  </thead>\n",
       "  <tbody>\n",
       "    <tr>\n",
       "      <th>0</th>\n",
       "      <td>@DSisourath The Thameslink core between London...</td>\n",
       "      <td>negative</td>\n",
       "    </tr>\n",
       "    <tr>\n",
       "      <th>1</th>\n",
       "      <td>@DulwichHistory Loving the complaint about peo...</td>\n",
       "      <td>negative</td>\n",
       "    </tr>\n",
       "    <tr>\n",
       "      <th>2</th>\n",
       "      <td>@SW_Help .And yet you have no toilets on some ...</td>\n",
       "      <td>negative</td>\n",
       "    </tr>\n",
       "    <tr>\n",
       "      <th>3</th>\n",
       "      <td>@SW_Help you have no toilets on some of your t...</td>\n",
       "      <td>negative</td>\n",
       "    </tr>\n",
       "    <tr>\n",
       "      <th>4</th>\n",
       "      <td>@SpeedySticks007 @MrNeilJH @TLRailUK @christia...</td>\n",
       "      <td>neutral</td>\n",
       "    </tr>\n",
       "    <tr>\n",
       "      <th>...</th>\n",
       "      <td>...</td>\n",
       "      <td>...</td>\n",
       "    </tr>\n",
       "    <tr>\n",
       "      <th>16944</th>\n",
       "      <td>Haha oh man the audio corruption on @TLRailUK ...</td>\n",
       "      <td>neutral</td>\n",
       "    </tr>\n",
       "    <tr>\n",
       "      <th>16945</th>\n",
       "      <td>@TLRailUK SweetIs there a plug to charge my ph...</td>\n",
       "      <td>neutral</td>\n",
       "    </tr>\n",
       "    <tr>\n",
       "      <th>16946</th>\n",
       "      <td>@TLRailUK now there are far fewer commuters ha...</td>\n",
       "      <td>neutral</td>\n",
       "    </tr>\n",
       "    <tr>\n",
       "      <th>16947</th>\n",
       "      <td>@geofftech I am voting for Thameslink. 1. in a...</td>\n",
       "      <td>neutral</td>\n",
       "    </tr>\n",
       "    <tr>\n",
       "      <th>16948</th>\n",
       "      <td>@geofftech I am voting for Thameslink. 1. in a...</td>\n",
       "      <td>neutral</td>\n",
       "    </tr>\n",
       "  </tbody>\n",
       "</table>\n",
       "<p>16949 rows × 2 columns</p>\n",
       "</div>"
      ],
      "text/plain": [
       "                                                    text sentiment\n",
       "0      @DSisourath The Thameslink core between London...  negative\n",
       "1      @DulwichHistory Loving the complaint about peo...  negative\n",
       "2      @SW_Help .And yet you have no toilets on some ...  negative\n",
       "3      @SW_Help you have no toilets on some of your t...  negative\n",
       "4      @SpeedySticks007 @MrNeilJH @TLRailUK @christia...   neutral\n",
       "...                                                  ...       ...\n",
       "16944  Haha oh man the audio corruption on @TLRailUK ...   neutral\n",
       "16945  @TLRailUK SweetIs there a plug to charge my ph...   neutral\n",
       "16946  @TLRailUK now there are far fewer commuters ha...   neutral\n",
       "16947  @geofftech I am voting for Thameslink. 1. in a...   neutral\n",
       "16948  @geofftech I am voting for Thameslink. 1. in a...   neutral\n",
       "\n",
       "[16949 rows x 2 columns]"
      ]
     },
     "execution_count": 73,
     "metadata": {},
     "output_type": "execute_result"
    }
   ],
   "source": [
    "# drop other columns except Tweet Content and Sentiment\n",
    "\n",
    "data.drop(data.columns.difference(['text','sentiment']), axis=1, inplace=True)\n",
    "data"
   ]
  },
  {
   "cell_type": "markdown",
   "id": "52ddccf4",
   "metadata": {
    "tags": []
   },
   "source": [
    "# SPLIT DATA INTO TRAINING, TEST & VALIDATION SETS"
   ]
  },
  {
   "cell_type": "code",
   "execution_count": 74,
   "id": "ef6b941a",
   "metadata": {},
   "outputs": [],
   "source": [
    "# Split the dataset into training, test & validation sets with ratio 70-15-15\n",
    "# First, split dataset into traing & test (ratio 85-15) then split training sets into training & validation (70-15)\n",
    "# Target variable is sentiment\n",
    "# Return: X_train, X_test, X_val, y_train, y_test, y_val\n",
    "# Parameters:\n",
    "#    random_state: make sure to get the same 3 subsets everytime. Set to be any int values\n",
    "#    stratify = sentiment (since there was an imbalance in neg, neu and positive sentiments and we have to set this in order to keep the same ratio in our subsets)\n",
    "\n",
    "X = data.drop(columns='sentiment') #the entire dataframe without sentiment column\n",
    "y = data['sentiment'] # our target variable\n",
    "\n",
    "X_main, X_test, y_main, y_test = train_test_split(X,y,test_size = 0.15, random_state=2, stratify = y) #split datasset into main & test set\n",
    "X_train, X_val, y_train, y_val = train_test_split(X_main, y_main, test_size=0.15, random_state=2, stratify = y_main) #split main into train & validation sets"
   ]
  },
  {
   "cell_type": "code",
   "execution_count": 75,
   "id": "4bcc3a05",
   "metadata": {},
   "outputs": [
    {
     "name": "stdout",
     "output_type": "stream",
     "text": [
      "Length of training set:\t\t 12245   12245\n",
      "Length of test set:\t\t 2543   2543\n",
      "Length of validation set:\t 2161   2161\n"
     ]
    }
   ],
   "source": [
    "print(\"Length of training set:\\t\\t\",len(X_train),\" \",len(y_train))\n",
    "print(\"Length of test set:\\t\\t\",len(X_test),\" \",len(y_test))\n",
    "print(\"Length of validation set:\\t\",len(X_val),\" \",len(y_val))"
   ]
  },
  {
   "cell_type": "markdown",
   "id": "fe1fa7e8-ec3d-42ca-b3f2-aadb06a02809",
   "metadata": {},
   "source": [
    "# CREATE SENTIMENT DATASET"
   ]
  },
  {
   "cell_type": "code",
   "execution_count": 76,
   "id": "36b7ab1c",
   "metadata": {},
   "outputs": [],
   "source": [
    "# create sentiment dataset\n",
    "\n",
    "sentiment_data = pd.DataFrame(X_train)\n",
    "sentiment_data['sentiment'] = y_train\n",
    "sentiment_data.sort_values(by='text', inplace=True)"
   ]
  },
  {
   "cell_type": "markdown",
   "id": "a1fe0bf2-676b-4dee-bac5-4ff32e74dc9b",
   "metadata": {
    "tags": []
   },
   "source": [
    "# REMOVE DUPLICATE ROWS (I.E. SAME TEXT & SAME SENTIMENT)"
   ]
  },
  {
   "cell_type": "code",
   "execution_count": 77,
   "id": "de497894-750d-429e-89c4-83dfdb26418c",
   "metadata": {},
   "outputs": [
    {
     "name": "stdout",
     "output_type": "stream",
     "text": [
      "Total duplicate rows (same text, same sentiment):  640\n"
     ]
    }
   ],
   "source": [
    "# Show total number of duplicate rows\n",
    "# Keep 1 of the duplicates in the dataframe, anything else is flagged as duplicates \n",
    "# Some have 2 duplicates and some has 3 duplicates   \n",
    "\n",
    "print('Total duplicate rows (same text, same sentiment): ', sentiment_data.duplicated().sum())"
   ]
  },
  {
   "cell_type": "code",
   "execution_count": 78,
   "id": "a264d56b-9245-490b-9807-eaa196f53c40",
   "metadata": {},
   "outputs": [
    {
     "data": {
      "text/html": [
       "<div>\n",
       "<style scoped>\n",
       "    .dataframe tbody tr th:only-of-type {\n",
       "        vertical-align: middle;\n",
       "    }\n",
       "\n",
       "    .dataframe tbody tr th {\n",
       "        vertical-align: top;\n",
       "    }\n",
       "\n",
       "    .dataframe thead th {\n",
       "        text-align: right;\n",
       "    }\n",
       "</style>\n",
       "<table border=\"1\" class=\"dataframe\">\n",
       "  <thead>\n",
       "    <tr style=\"text-align: right;\">\n",
       "      <th></th>\n",
       "      <th>text</th>\n",
       "      <th>sentiment</th>\n",
       "    </tr>\n",
       "  </thead>\n",
       "  <tbody>\n",
       "    <tr>\n",
       "      <th>67</th>\n",
       "      <td>#EastCroydon #LondonBridge #Victoria use https...</td>\n",
       "      <td>negative</td>\n",
       "    </tr>\n",
       "    <tr>\n",
       "      <th>66</th>\n",
       "      <td>#EastCroydon #LondonBridge #Victoria use https...</td>\n",
       "      <td>negative</td>\n",
       "    </tr>\n",
       "    <tr>\n",
       "      <th>283</th>\n",
       "      <td>#TLUpdates - Following a road vehicle collidin...</td>\n",
       "      <td>negative</td>\n",
       "    </tr>\n",
       "    <tr>\n",
       "      <th>284</th>\n",
       "      <td>#TLUpdates - Following a road vehicle collidin...</td>\n",
       "      <td>negative</td>\n",
       "    </tr>\n",
       "    <tr>\n",
       "      <th>357</th>\n",
       "      <td>#TLUpdates - Please allow extra time for your ...</td>\n",
       "      <td>negative</td>\n",
       "    </tr>\n",
       "    <tr>\n",
       "      <th>...</th>\n",
       "      <td>...</td>\n",
       "      <td>...</td>\n",
       "    </tr>\n",
       "    <tr>\n",
       "      <th>14476</th>\n",
       "      <td>⁦@TLRailUK⁩ why no tray tables? Coffee running...</td>\n",
       "      <td>negative</td>\n",
       "    </tr>\n",
       "    <tr>\n",
       "      <th>14516</th>\n",
       "      <td>⚠️ #SNUpdates - Train services running through...</td>\n",
       "      <td>negative</td>\n",
       "    </tr>\n",
       "    <tr>\n",
       "      <th>14517</th>\n",
       "      <td>⚠️ #SNUpdates - Train services running through...</td>\n",
       "      <td>negative</td>\n",
       "    </tr>\n",
       "    <tr>\n",
       "      <th>15072</th>\n",
       "      <td>📣 #NewInstruction!🏡 #ForSale: Millway, #NW7A w...</td>\n",
       "      <td>neutral</td>\n",
       "    </tr>\n",
       "    <tr>\n",
       "      <th>15195</th>\n",
       "      <td>📣 #NewInstruction!🏡 #ForSale: Millway, #NW7A w...</td>\n",
       "      <td>neutral</td>\n",
       "    </tr>\n",
       "  </tbody>\n",
       "</table>\n",
       "<p>1184 rows × 2 columns</p>\n",
       "</div>"
      ],
      "text/plain": [
       "                                                    text sentiment\n",
       "67     #EastCroydon #LondonBridge #Victoria use https...  negative\n",
       "66     #EastCroydon #LondonBridge #Victoria use https...  negative\n",
       "283    #TLUpdates - Following a road vehicle collidin...  negative\n",
       "284    #TLUpdates - Following a road vehicle collidin...  negative\n",
       "357    #TLUpdates - Please allow extra time for your ...  negative\n",
       "...                                                  ...       ...\n",
       "14476  ⁦@TLRailUK⁩ why no tray tables? Coffee running...  negative\n",
       "14516  ⚠️ #SNUpdates - Train services running through...  negative\n",
       "14517  ⚠️ #SNUpdates - Train services running through...  negative\n",
       "15072  📣 #NewInstruction!🏡 #ForSale: Millway, #NW7A w...   neutral\n",
       "15195  📣 #NewInstruction!🏡 #ForSale: Millway, #NW7A w...   neutral\n",
       "\n",
       "[1184 rows x 2 columns]"
      ]
     },
     "execution_count": 78,
     "metadata": {},
     "output_type": "execute_result"
    }
   ],
   "source": [
    "# list all duplicate rows in the entire dataset\n",
    "# duplicated() parameters:\n",
    "#    By default, keep = 'first': 1st of duplicated rows to be kept in the dataframe, the rest to be flagged as duplicates and show down here\n",
    "#    keep = 'last': last of duplicated rows to be kept in the dataframe, the rest to be flagged as duplicates and show down here\n",
    "#    keep = False: flag and show all duplicated rows (not keeping any rows in dataframe)\n",
    "\n",
    "sentiment_data.loc[sentiment_data.duplicated(keep = False),:]"
   ]
  },
  {
   "cell_type": "code",
   "execution_count": 79,
   "id": "9d0e5b06-c665-4935-8e07-735afc6ed791",
   "metadata": {},
   "outputs": [],
   "source": [
    "# Drop rows that already flagged as duplicates (keep 1 row in the dataframe)\n",
    "# inplace=True: make changes to the origial DataFrame\n",
    "\n",
    "sentiment_data.drop_duplicates(inplace=True)"
   ]
  },
  {
   "cell_type": "code",
   "execution_count": 80,
   "id": "2cee6bf7-e8ad-4081-ad1f-b0e53e03477a",
   "metadata": {},
   "outputs": [
    {
     "data": {
      "text/plain": [
       "0"
      ]
     },
     "execution_count": 80,
     "metadata": {},
     "output_type": "execute_result"
    }
   ],
   "source": [
    "sentiment_data.duplicated().sum()"
   ]
  },
  {
   "cell_type": "markdown",
   "id": "e2f9b155-dd14-4072-b653-ea45bbdbe07a",
   "metadata": {},
   "source": [
    "# LIST DUPLICATE TWEET WITH DIFFERENT SENTIMENT"
   ]
  },
  {
   "cell_type": "code",
   "execution_count": 81,
   "id": "eaf130a8-c5eb-403a-8534-3d06a34d6142",
   "metadata": {},
   "outputs": [
    {
     "name": "stdout",
     "output_type": "stream",
     "text": [
      "Total duplicate Tweet with different sentiment:  17\n"
     ]
    }
   ],
   "source": [
    "# how many duplicate Tweets with different sentiment remain in the dataset\n",
    "\n",
    "print('Total duplicate Tweet with different sentiment: ',sentiment_data['text'].duplicated().sum())"
   ]
  },
  {
   "cell_type": "code",
   "execution_count": 82,
   "id": "3f1f3744-ed80-4e58-bdcc-448ff69eefaa",
   "metadata": {},
   "outputs": [
    {
     "data": {
      "text/html": [
       "<div>\n",
       "<style scoped>\n",
       "    .dataframe tbody tr th:only-of-type {\n",
       "        vertical-align: middle;\n",
       "    }\n",
       "\n",
       "    .dataframe tbody tr th {\n",
       "        vertical-align: top;\n",
       "    }\n",
       "\n",
       "    .dataframe thead th {\n",
       "        text-align: right;\n",
       "    }\n",
       "</style>\n",
       "<table border=\"1\" class=\"dataframe\">\n",
       "  <thead>\n",
       "    <tr style=\"text-align: right;\">\n",
       "      <th></th>\n",
       "      <th>text</th>\n",
       "      <th>sentiment</th>\n",
       "    </tr>\n",
       "  </thead>\n",
       "  <tbody>\n",
       "    <tr>\n",
       "      <th>2614</th>\n",
       "      <td>@AndyBraben @TLRailUK @CoyModemKnight @Cameron...</td>\n",
       "      <td>neutral</td>\n",
       "    </tr>\n",
       "    <tr>\n",
       "      <th>15247</th>\n",
       "      <td>@AndyBraben @TLRailUK @CoyModemKnight @Cameron...</td>\n",
       "      <td>negative</td>\n",
       "    </tr>\n",
       "    <tr>\n",
       "      <th>15260</th>\n",
       "      <td>@BugsieGiven @GNRailUK Mind you, given the cho...</td>\n",
       "      <td>neutral</td>\n",
       "    </tr>\n",
       "    <tr>\n",
       "      <th>2741</th>\n",
       "      <td>@BugsieGiven @GNRailUK Mind you, given the cho...</td>\n",
       "      <td>negative</td>\n",
       "    </tr>\n",
       "    <tr>\n",
       "      <th>15266</th>\n",
       "      <td>@CentralBeds @TLRailUK Lucky they got a seat i...</td>\n",
       "      <td>negative</td>\n",
       "    </tr>\n",
       "    <tr>\n",
       "      <th>2779</th>\n",
       "      <td>@CentralBeds @TLRailUK Lucky they got a seat i...</td>\n",
       "      <td>neutral</td>\n",
       "    </tr>\n",
       "    <tr>\n",
       "      <th>15327</th>\n",
       "      <td>@JDrvr @TLRailUK Those announcements always me...</td>\n",
       "      <td>neutral</td>\n",
       "    </tr>\n",
       "    <tr>\n",
       "      <th>3285</th>\n",
       "      <td>@JDrvr @TLRailUK Those announcements always me...</td>\n",
       "      <td>negative</td>\n",
       "    </tr>\n",
       "    <tr>\n",
       "      <th>3432</th>\n",
       "      <td>@LambrettaGT205 @TLRailUK @Haleypest No tables...</td>\n",
       "      <td>negative</td>\n",
       "    </tr>\n",
       "    <tr>\n",
       "      <th>15346</th>\n",
       "      <td>@LambrettaGT205 @TLRailUK @Haleypest No tables...</td>\n",
       "      <td>neutral</td>\n",
       "    </tr>\n",
       "    <tr>\n",
       "      <th>4089</th>\n",
       "      <td>@Se_Railway On the train just behind it, Chari...</td>\n",
       "      <td>negative</td>\n",
       "    </tr>\n",
       "    <tr>\n",
       "      <th>15427</th>\n",
       "      <td>@Se_Railway On the train just behind it, Chari...</td>\n",
       "      <td>neutral</td>\n",
       "    </tr>\n",
       "    <tr>\n",
       "      <th>4165</th>\n",
       "      <td>@Soundcheckmike It’s a general announcement by...</td>\n",
       "      <td>negative</td>\n",
       "    </tr>\n",
       "    <tr>\n",
       "      <th>15434</th>\n",
       "      <td>@Soundcheckmike It’s a general announcement by...</td>\n",
       "      <td>neutral</td>\n",
       "    </tr>\n",
       "    <tr>\n",
       "      <th>15569</th>\n",
       "      <td>@TLRailUK @tlupdates 😳😮 Hope I’m not sitting i...</td>\n",
       "      <td>negative</td>\n",
       "    </tr>\n",
       "    <tr>\n",
       "      <th>5295</th>\n",
       "      <td>@TLRailUK @tlupdates 😳😮 Hope I’m not sitting i...</td>\n",
       "      <td>neutral</td>\n",
       "    </tr>\n",
       "    <tr>\n",
       "      <th>15592</th>\n",
       "      <td>@TLRailUK Can you tell us what’s happening at ...</td>\n",
       "      <td>negative</td>\n",
       "    </tr>\n",
       "    <tr>\n",
       "      <th>5580</th>\n",
       "      <td>@TLRailUK Can you tell us what’s happening at ...</td>\n",
       "      <td>neutral</td>\n",
       "    </tr>\n",
       "    <tr>\n",
       "      <th>6585</th>\n",
       "      <td>@TLRailUK It’s not just this carriage - I walk...</td>\n",
       "      <td>neutral</td>\n",
       "    </tr>\n",
       "    <tr>\n",
       "      <th>15715</th>\n",
       "      <td>@TLRailUK It’s not just this carriage - I walk...</td>\n",
       "      <td>negative</td>\n",
       "    </tr>\n",
       "  </tbody>\n",
       "</table>\n",
       "</div>"
      ],
      "text/plain": [
       "                                                    text sentiment\n",
       "2614   @AndyBraben @TLRailUK @CoyModemKnight @Cameron...   neutral\n",
       "15247  @AndyBraben @TLRailUK @CoyModemKnight @Cameron...  negative\n",
       "15260  @BugsieGiven @GNRailUK Mind you, given the cho...   neutral\n",
       "2741   @BugsieGiven @GNRailUK Mind you, given the cho...  negative\n",
       "15266  @CentralBeds @TLRailUK Lucky they got a seat i...  negative\n",
       "2779   @CentralBeds @TLRailUK Lucky they got a seat i...   neutral\n",
       "15327  @JDrvr @TLRailUK Those announcements always me...   neutral\n",
       "3285   @JDrvr @TLRailUK Those announcements always me...  negative\n",
       "3432   @LambrettaGT205 @TLRailUK @Haleypest No tables...  negative\n",
       "15346  @LambrettaGT205 @TLRailUK @Haleypest No tables...   neutral\n",
       "4089   @Se_Railway On the train just behind it, Chari...  negative\n",
       "15427  @Se_Railway On the train just behind it, Chari...   neutral\n",
       "4165   @Soundcheckmike It’s a general announcement by...  negative\n",
       "15434  @Soundcheckmike It’s a general announcement by...   neutral\n",
       "15569  @TLRailUK @tlupdates 😳😮 Hope I’m not sitting i...  negative\n",
       "5295   @TLRailUK @tlupdates 😳😮 Hope I’m not sitting i...   neutral\n",
       "15592  @TLRailUK Can you tell us what’s happening at ...  negative\n",
       "5580   @TLRailUK Can you tell us what’s happening at ...   neutral\n",
       "6585   @TLRailUK It’s not just this carriage - I walk...   neutral\n",
       "15715  @TLRailUK It’s not just this carriage - I walk...  negative"
      ]
     },
     "execution_count": 82,
     "metadata": {},
     "output_type": "execute_result"
    }
   ],
   "source": [
    "# show first 20 rows that has duplicate Tweets with different sentiment\n",
    "# by default, only show the 1st row of duplicate and drop the last row of duplicate\n",
    "# if want to keep the last row instead, set the parameter to duplicate(keep = 'last')\n",
    "# if want to show both the duplicates, set the parameter to duplicate(False)\n",
    "\n",
    "sentiment_data[sentiment_data['text'].duplicated(keep=False)].head(20)"
   ]
  },
  {
   "cell_type": "code",
   "execution_count": 83,
   "id": "e8689379-f5e2-4397-9544-ff36bcc710f1",
   "metadata": {},
   "outputs": [],
   "source": [
    "# The duplicate Tweets with different sentiment is because they have different topics.\n",
    "# However, knowing they belong to different topics doesn't help with our model building because some of them are just sarcasm, wrong classification \n",
    "# Hence, it's best to remove these 17 Tweets from our dataset\n",
    "\n",
    "# Remove duplicate Tweet with different sentiment\n",
    "sentiment_data.drop_duplicates(['text'], inplace=True)"
   ]
  },
  {
   "cell_type": "code",
   "execution_count": 84,
   "id": "ecb44330-d26f-497b-81c6-7bbd7dbc05f7",
   "metadata": {},
   "outputs": [
    {
     "data": {
      "text/plain": [
       "0"
      ]
     },
     "execution_count": 84,
     "metadata": {},
     "output_type": "execute_result"
    }
   ],
   "source": [
    "sentiment_data['text'].duplicated().sum()"
   ]
  },
  {
   "cell_type": "code",
   "execution_count": 85,
   "id": "925b20ac-c17e-47cb-a5f9-51a224d22fd1",
   "metadata": {},
   "outputs": [
    {
     "name": "stdout",
     "output_type": "stream",
     "text": [
      "Dataset for sentiment is  (11588, 2)\n"
     ]
    }
   ],
   "source": [
    "print('Dataset for sentiment is ',sentiment_data.shape)"
   ]
  },
  {
   "cell_type": "markdown",
   "id": "dfe94c3c",
   "metadata": {},
   "source": [
    "# CHECK MISSING VALUES IN THE DATASET"
   ]
  },
  {
   "cell_type": "code",
   "execution_count": 86,
   "id": "00cb6b6e",
   "metadata": {},
   "outputs": [
    {
     "data": {
      "text/plain": [
       "text         False\n",
       "sentiment    False\n",
       "dtype: bool"
      ]
     },
     "execution_count": 86,
     "metadata": {},
     "output_type": "execute_result"
    }
   ],
   "source": [
    "sentiment_data.isnull().any()"
   ]
  },
  {
   "cell_type": "markdown",
   "id": "50f125a7-888c-4061-9313-878c4352ef52",
   "metadata": {},
   "source": [
    "# CLEANING TWEET CONTENT"
   ]
  },
  {
   "cell_type": "code",
   "execution_count": 87,
   "id": "db2b3f03",
   "metadata": {},
   "outputs": [],
   "source": [
    "# load spacy English language model trained based on web and social media texts\n",
    "# add more stop words to the list of stop words list in spacy\n",
    "\n",
    "nlp = spacy.load('en_core_web_sm')\n",
    "nlp.Defaults.stop_words |= {'thameslink','tlupdates','gtrailuk','tlrailuk','govia', 'gtr'}"
   ]
  },
  {
   "cell_type": "code",
   "execution_count": 88,
   "id": "78be719e-1416-4a4b-985e-15b49549cb9c",
   "metadata": {},
   "outputs": [
    {
     "name": "stdout",
     "output_type": "stream",
     "text": [
      "332\n",
      "{'alone', 'hereby', 'did', 'might', 'often', 'itself', 'always', 'everyone', 'due', 'gtrailuk', 'my', 'become', 'mine', 'his', 'anyway', 'only', 'him', 'more', 'throughout', 'since', 'a', 'whoever', 'how', 'latterly', 'latter', '‘m', 'should', 'anyone', 'therefore', 'thus', 'namely', 'through', 'within', 'seemed', \"'m\", 'much', 'really', 'top', 'does', 'twenty', 'those', 'against', 'least', \"'ve\", 'anyhow', 'using', 'sometime', 'none', 'thereupon', '’d', 'hereafter', 'ten', 'besides', 'eight', 'am', 'whenever', 'every', 'ca', 'may', 'twelve', 'your', 'all', 'done', 'either', 'formerly', 'there', 'between', 'give', 'must', 'forty', 'it', 'per', '’ve', 'tlrailuk', 'had', 'are', 'noone', 'whether', 'next', 'amongst', 'which', 'each', 'has', 'few', 'everywhere', 'her', 'ever', 'still', 'off', '‘d', 'other', 'hers', 'seem', 'if', 'cannot', 'seems', 'hence', \"'re\", 'front', 'even', 'everything', 'hundred', 'already', 'put', 'afterwards', 'fifty', 'go', 'ours', 'by', 'nowhere', 'just', 'themselves', 'someone', 'to', 'above', 'well', 'make', 'unless', 'beside', 'where', 'nevertheless', 'an', 'them', 'sixty', 'side', 'move', 'across', 'perhaps', 'that', 'too', 'yours', 'i', 'back', 'will', 'several', 'they', 'below', 'one', 'were', 'or', 'mostly', 'being', 'name', 'herself', 'because', 'this', 'govia', 'see', 'wherein', 'various', 'himself', 're', 'six', 'for', 'five', 'nine', 'somewhere', 'though', 'without', 'beyond', '’ll', 'full', 'three', 'neither', 'n’t', '’s', 'enough', 'why', '‘s', 'whereby', 'yourselves', 'now', 'empty', 'four', 'doing', 'anything', '‘re', '’re', 'behind', 'fifteen', '‘ll', 'almost', 'the', 'rather', 'whose', 'beforehand', 'thence', 'towards', 'bottom', 'yet', 'with', 'whither', 'together', 'whereas', 'whence', 'have', 'down', 'wherever', 'then', \"'d\", 'else', 'something', 'up', \"'ll\", 'while', 'some', 'used', 'nothing', 'onto', 'what', 'eleven', 'us', 'gtr', 'do', 'of', 'seeming', 'who', 'get', 'another', 'keep', 'although', 'herein', 'same', 'is', 'thereafter', 'out', 'after', 'around', 'you', 'when', 'less', 'many', 'was', 'could', 'our', 'in', 'these', 'over', 'on', 'no', 'whole', 'former', 'and', 'via', 'myself', 'any', 'otherwise', 'at', 'moreover', 'part', 'yourself', 'whereafter', 'as', \"n't\", 'becoming', 'can', 'but', 'quite', 'say', 'thru', 'about', 'tlupdates', 'sometimes', 'becomes', 'became', \"'s\", 'she', 'so', 'therein', 'whatever', 'indeed', 'nor', 'third', 'been', 'we', 'nobody', 'thereby', 'before', 'from', 'upon', 'thameslink', 'show', 'also', 'call', 'never', 'meanwhile', 'he', 'toward', 'elsewhere', 'into', 'most', 'during', 'again', 'its', 'both', 'last', 'would', 'however', 'hereupon', 'along', 'such', 'once', 'than', 'somehow', 'among', 'their', 'very', 'first', 'further', '’m', 'except', '‘ve', 'serious', 'two', 'amount', 'made', 'anywhere', 'others', 'take', 'ourselves', 'not', 'please', 'whom', 'under', 'whereupon', 'until', 'own', 'be', 'here', 'regarding', 'me', 'n‘t'}\n"
     ]
    }
   ],
   "source": [
    "STOP_WORDS\n",
    "\n",
    "print(len(STOP_WORDS))\n",
    "print(STOP_WORDS)"
   ]
  },
  {
   "cell_type": "code",
   "execution_count": 89,
   "id": "0c691e3a-9d85-48d1-8918-9469860d0944",
   "metadata": {},
   "outputs": [],
   "source": [
    "# Create a function to clean tweet content\n",
    "# Tweet will be cleaned by the following steps:\n",
    "# 1. Remove emoji\n",
    "# 2. Remove #TLUpdates\n",
    "# 3. Turn word to lowercase\n",
    "# 4. Remove Twitter @usernames\n",
    "# 5. Remove hyperlink\n",
    "# 6. Remove punctuations\n",
    "# Use function re.sub() to subsitute particular sub-string with another sub-string \n",
    "    # arguments: (condition [or pattern], substitute with, passing string).\n",
    "    # Patterns: \n",
    "    # [ character block start\n",
    "    # ^ not these characters (letters, numbers)\n",
    "    # \\w word characters\n",
    "    # \\s space characters\n",
    "    # ] character block end.\n",
    "\n",
    "def cleanText(text):\n",
    "    #create a list of emojis pattern\n",
    "    emoji_pattern = re.compile(pattern = \"[\"\n",
    "        u\"\\U0001F600-\\U0001F64F\"  # emoticons\n",
    "        u\"\\U0001F300-\\U0001F5FF\"  # symbols & pictographs\n",
    "        u\"\\U0001F680-\\U0001F6FF\"  # transport & map symbols\n",
    "        u\"\\U0001F1E0-\\U0001F1FF\"  # flags (iOS)\n",
    "                                   \"]+\", flags = re.UNICODE)\n",
    "    text = re.sub(emoji_pattern,'', text) #remove emoji    \n",
    "    text = re.sub(r'#TLUpdates','',text) #remove the hashtag #TLUpdates    \n",
    "    text = text.lower() #turn every capitalization to lowercase    \n",
    "    text = re.sub(r'@[A-Za-z0-9\\_]+','',text) #remove @usernames, format of a username: alphanumeric characters (letters A-Z, numbers 0-9) with the exception of underscores\n",
    "    text = re.sub(r'https?:\\/\\/\\S+','',text) #remove hyperlink\n",
    "    text = re.sub(r'\\b\\d+\\b','',text) #remove numbers\n",
    "    #text = re.sub(r'[^\\w\\s]','',text) #remove punctuations\n",
    "    return text"
   ]
  },
  {
   "cell_type": "code",
   "execution_count": 90,
   "id": "2dae7416",
   "metadata": {},
   "outputs": [],
   "source": [
    "# Clean the tweet content\n",
    "# Use for loop to run through every tweets in the clean dataset\n",
    "# Cleaning steps include:\n",
    "# 1. Basic clean (i.e. remove unnecessary emojis, patterns, punctuation...) using the cleanText function above\n",
    "# 2. Tokenization: break sentence into words\n",
    "# 3. Remove stop words\n",
    "# 4. Lemmatization: strip words down to its root/stem\n",
    "\n",
    "def cleanData(main_df):\n",
    "    df = main_df.copy()\n",
    "    lemmatizer = WordNetLemmatizer()\n",
    "\n",
    "    for index, row in df.iterrows():\n",
    "        filter_sentence = []\n",
    "        sentence = cleanText(row['text']) # call our function above to clean user text\n",
    "        words = nltk.word_tokenize(sentence) # tokenization\n",
    "        words = [w for w in words if not w in STOP_WORDS] # stopwords removal\n",
    "        for word in words:\n",
    "            filter_sentence.append(lemmatizer.lemmatize(word)) # lemmatization\n",
    "        df.at[index,'text'] = filter_sentence  \n",
    "    return df"
   ]
  },
  {
   "cell_type": "markdown",
   "id": "a09220e9-7196-4549-9e45-58c3e5dba132",
   "metadata": {
    "tags": []
   },
   "source": [
    "# SENTIMENT ANALYSIS WITH TEXTBLOB"
   ]
  },
  {
   "cell_type": "code",
   "execution_count": 91,
   "id": "7f570234-04db-4c89-a54c-ac2a9bac1645",
   "metadata": {},
   "outputs": [],
   "source": [
    "TextBlob_df = sentiment_data.copy()"
   ]
  },
  {
   "cell_type": "code",
   "execution_count": 92,
   "id": "7e6261a5-30f5-4195-9453-f4f904e3dc83",
   "metadata": {},
   "outputs": [
    {
     "data": {
      "text/html": [
       "<div>\n",
       "<style scoped>\n",
       "    .dataframe tbody tr th:only-of-type {\n",
       "        vertical-align: middle;\n",
       "    }\n",
       "\n",
       "    .dataframe tbody tr th {\n",
       "        vertical-align: top;\n",
       "    }\n",
       "\n",
       "    .dataframe thead th {\n",
       "        text-align: right;\n",
       "    }\n",
       "</style>\n",
       "<table border=\"1\" class=\"dataframe\">\n",
       "  <thead>\n",
       "    <tr style=\"text-align: right;\">\n",
       "      <th></th>\n",
       "      <th>text</th>\n",
       "      <th>sentiment</th>\n",
       "    </tr>\n",
       "  </thead>\n",
       "  <tbody>\n",
       "    <tr>\n",
       "      <th>15196</th>\n",
       "      <td>\" govia thameslink fined £1m over passenger ki...</td>\n",
       "      <td>neutral</td>\n",
       "    </tr>\n",
       "    <tr>\n",
       "      <th>25</th>\n",
       "      <td>\"congestion\" is not a reason for delay, it's a...</td>\n",
       "      <td>negative</td>\n",
       "    </tr>\n",
       "    <tr>\n",
       "      <th>26</th>\n",
       "      <td>\"govia thameslink railway (gtr) is facing a £5...</td>\n",
       "      <td>negative</td>\n",
       "    </tr>\n",
       "    <tr>\n",
       "      <th>28</th>\n",
       "      <td>\"my apologies passengers, we appear to be havi...</td>\n",
       "      <td>negative</td>\n",
       "    </tr>\n",
       "    <tr>\n",
       "      <th>29</th>\n",
       "      <td>\"no more trains passing through platform . ple...</td>\n",
       "      <td>negative</td>\n",
       "    </tr>\n",
       "    <tr>\n",
       "      <th>...</th>\n",
       "      <td>...</td>\n",
       "      <td>...</td>\n",
       "    </tr>\n",
       "    <tr>\n",
       "      <th>15074</th>\n",
       "      <td>to the woman at west hampstead thameslink who...</td>\n",
       "      <td>neutral</td>\n",
       "    </tr>\n",
       "    <tr>\n",
       "      <th>15076</th>\n",
       "      <td>the new thameslink trains use regenerative br...</td>\n",
       "      <td>neutral</td>\n",
       "    </tr>\n",
       "    <tr>\n",
       "      <th>15077</th>\n",
       "      <td>•overground: minor delays hackney wick to str...</td>\n",
       "      <td>neutral</td>\n",
       "    </tr>\n",
       "    <tr>\n",
       "      <th>15078</th>\n",
       "      <td>a fault on a train earlier today at city tham...</td>\n",
       "      <td>negative</td>\n",
       "    </tr>\n",
       "    <tr>\n",
       "      <th>15080</th>\n",
       "      <td>service alert - signal failure at wembley par...</td>\n",
       "      <td>neutral</td>\n",
       "    </tr>\n",
       "  </tbody>\n",
       "</table>\n",
       "<p>11588 rows × 2 columns</p>\n",
       "</div>"
      ],
      "text/plain": [
       "                                                    text sentiment\n",
       "15196  \" govia thameslink fined £1m over passenger ki...   neutral\n",
       "25     \"congestion\" is not a reason for delay, it's a...  negative\n",
       "26     \"govia thameslink railway (gtr) is facing a £5...  negative\n",
       "28     \"my apologies passengers, we appear to be havi...  negative\n",
       "29     \"no more trains passing through platform . ple...  negative\n",
       "...                                                  ...       ...\n",
       "15074   to the woman at west hampstead thameslink who...   neutral\n",
       "15076   the new thameslink trains use regenerative br...   neutral\n",
       "15077   •overground: minor delays hackney wick to str...   neutral\n",
       "15078   a fault on a train earlier today at city tham...  negative\n",
       "15080   service alert - signal failure at wembley par...   neutral\n",
       "\n",
       "[11588 rows x 2 columns]"
      ]
     },
     "execution_count": 92,
     "metadata": {},
     "output_type": "execute_result"
    }
   ],
   "source": [
    "# Clean the tweet content\n",
    "\n",
    "TextBlob_df['text'] = TextBlob_df['text'].apply(cleanText)\n",
    "TextBlob_df"
   ]
  },
  {
   "cell_type": "code",
   "execution_count": 93,
   "id": "a7b046c6-5a94-4a8d-96a5-4c30ec248269",
   "metadata": {},
   "outputs": [],
   "source": [
    "# Create a function to get the subjectivity\n",
    "# tell the user if the given sentence is subjective or objective\n",
    "# Return values in range [0,1]\n",
    "def getSubjectivity(text):\n",
    "    return TextBlob(text).sentiment.subjectivity"
   ]
  },
  {
   "cell_type": "code",
   "execution_count": 94,
   "id": "a3992ac9-e6d8-4b75-9476-409a099202e0",
   "metadata": {},
   "outputs": [],
   "source": [
    "# Create a function to get the polarity\n",
    "# tell the user if the given sentence is negative, neutral or positive\n",
    "# Return values in range [-1,1]\n",
    "# -1: negative\n",
    "# 0: neutral\n",
    "# 1: positive\n",
    "def getPolarity(text):\n",
    "    return TextBlob(text).sentiment.polarity"
   ]
  },
  {
   "cell_type": "code",
   "execution_count": 95,
   "id": "f048adaf-bc38-42eb-853d-96559547b789",
   "metadata": {},
   "outputs": [],
   "source": [
    "# Create 2 new columns Subjectivity and Polarity\n",
    "TextBlob_df['Subjectivity'] = TextBlob_df['text'].apply(getSubjectivity)\n",
    "TextBlob_df['Polarity'] = TextBlob_df['text'].apply(getPolarity)"
   ]
  },
  {
   "cell_type": "code",
   "execution_count": 96,
   "id": "425d6f53-9d11-4552-88a6-8ac448a64c68",
   "metadata": {},
   "outputs": [
    {
     "data": {
      "text/html": [
       "<div>\n",
       "<style scoped>\n",
       "    .dataframe tbody tr th:only-of-type {\n",
       "        vertical-align: middle;\n",
       "    }\n",
       "\n",
       "    .dataframe tbody tr th {\n",
       "        vertical-align: top;\n",
       "    }\n",
       "\n",
       "    .dataframe thead th {\n",
       "        text-align: right;\n",
       "    }\n",
       "</style>\n",
       "<table border=\"1\" class=\"dataframe\">\n",
       "  <thead>\n",
       "    <tr style=\"text-align: right;\">\n",
       "      <th></th>\n",
       "      <th>text</th>\n",
       "      <th>sentiment</th>\n",
       "      <th>Subjectivity</th>\n",
       "      <th>Polarity</th>\n",
       "    </tr>\n",
       "  </thead>\n",
       "  <tbody>\n",
       "    <tr>\n",
       "      <th>15196</th>\n",
       "      <td>\" govia thameslink fined £1m over passenger ki...</td>\n",
       "      <td>neutral</td>\n",
       "      <td>0.000000</td>\n",
       "      <td>-0.200000</td>\n",
       "    </tr>\n",
       "    <tr>\n",
       "      <th>25</th>\n",
       "      <td>\"congestion\" is not a reason for delay, it's a...</td>\n",
       "      <td>negative</td>\n",
       "      <td>0.651515</td>\n",
       "      <td>0.545455</td>\n",
       "    </tr>\n",
       "    <tr>\n",
       "      <th>26</th>\n",
       "      <td>\"govia thameslink railway (gtr) is facing a £5...</td>\n",
       "      <td>negative</td>\n",
       "      <td>0.340404</td>\n",
       "      <td>0.184343</td>\n",
       "    </tr>\n",
       "    <tr>\n",
       "      <th>28</th>\n",
       "      <td>\"my apologies passengers, we appear to be havi...</td>\n",
       "      <td>negative</td>\n",
       "      <td>0.000000</td>\n",
       "      <td>0.000000</td>\n",
       "    </tr>\n",
       "    <tr>\n",
       "      <th>29</th>\n",
       "      <td>\"no more trains passing through platform . ple...</td>\n",
       "      <td>negative</td>\n",
       "      <td>0.260000</td>\n",
       "      <td>0.090000</td>\n",
       "    </tr>\n",
       "    <tr>\n",
       "      <th>...</th>\n",
       "      <td>...</td>\n",
       "      <td>...</td>\n",
       "      <td>...</td>\n",
       "      <td>...</td>\n",
       "    </tr>\n",
       "    <tr>\n",
       "      <th>15074</th>\n",
       "      <td>to the woman at west hampstead thameslink who...</td>\n",
       "      <td>neutral</td>\n",
       "      <td>0.000000</td>\n",
       "      <td>0.000000</td>\n",
       "    </tr>\n",
       "    <tr>\n",
       "      <th>15076</th>\n",
       "      <td>the new thameslink trains use regenerative br...</td>\n",
       "      <td>neutral</td>\n",
       "      <td>0.361818</td>\n",
       "      <td>0.094545</td>\n",
       "    </tr>\n",
       "    <tr>\n",
       "      <th>15077</th>\n",
       "      <td>•overground: minor delays hackney wick to str...</td>\n",
       "      <td>neutral</td>\n",
       "      <td>0.100000</td>\n",
       "      <td>-0.025000</td>\n",
       "    </tr>\n",
       "    <tr>\n",
       "      <th>15078</th>\n",
       "      <td>a fault on a train earlier today at city tham...</td>\n",
       "      <td>negative</td>\n",
       "      <td>0.250000</td>\n",
       "      <td>0.000000</td>\n",
       "    </tr>\n",
       "    <tr>\n",
       "      <th>15080</th>\n",
       "      <td>service alert - signal failure at wembley par...</td>\n",
       "      <td>neutral</td>\n",
       "      <td>0.400000</td>\n",
       "      <td>-0.090152</td>\n",
       "    </tr>\n",
       "  </tbody>\n",
       "</table>\n",
       "<p>11588 rows × 4 columns</p>\n",
       "</div>"
      ],
      "text/plain": [
       "                                                    text sentiment  \\\n",
       "15196  \" govia thameslink fined £1m over passenger ki...   neutral   \n",
       "25     \"congestion\" is not a reason for delay, it's a...  negative   \n",
       "26     \"govia thameslink railway (gtr) is facing a £5...  negative   \n",
       "28     \"my apologies passengers, we appear to be havi...  negative   \n",
       "29     \"no more trains passing through platform . ple...  negative   \n",
       "...                                                  ...       ...   \n",
       "15074   to the woman at west hampstead thameslink who...   neutral   \n",
       "15076   the new thameslink trains use regenerative br...   neutral   \n",
       "15077   •overground: minor delays hackney wick to str...   neutral   \n",
       "15078   a fault on a train earlier today at city tham...  negative   \n",
       "15080   service alert - signal failure at wembley par...   neutral   \n",
       "\n",
       "       Subjectivity  Polarity  \n",
       "15196      0.000000 -0.200000  \n",
       "25         0.651515  0.545455  \n",
       "26         0.340404  0.184343  \n",
       "28         0.000000  0.000000  \n",
       "29         0.260000  0.090000  \n",
       "...             ...       ...  \n",
       "15074      0.000000  0.000000  \n",
       "15076      0.361818  0.094545  \n",
       "15077      0.100000 -0.025000  \n",
       "15078      0.250000  0.000000  \n",
       "15080      0.400000 -0.090152  \n",
       "\n",
       "[11588 rows x 4 columns]"
      ]
     },
     "execution_count": 96,
     "metadata": {},
     "output_type": "execute_result"
    }
   ],
   "source": [
    "# Show the new dataframe with newly-added columns Subjectivity and Polarity\n",
    "TextBlob_df"
   ]
  },
  {
   "cell_type": "code",
   "execution_count": 97,
   "id": "5d4b48d6-9a3e-4b02-a5e6-8715586e837d",
   "metadata": {},
   "outputs": [],
   "source": [
    "# Create a function to compute the negative, neutral and positive analysis\n",
    "def SentimentAnalysis(score):\n",
    "    if score < 0:\n",
    "        return 'Negative'\n",
    "    elif score == 0:\n",
    "        return 'Neutral'\n",
    "    else:\n",
    "        return 'Positive'"
   ]
  },
  {
   "cell_type": "code",
   "execution_count": 98,
   "id": "4c706327-70b8-4514-b48b-c739e27d4ddb",
   "metadata": {},
   "outputs": [
    {
     "data": {
      "text/html": [
       "<div>\n",
       "<style scoped>\n",
       "    .dataframe tbody tr th:only-of-type {\n",
       "        vertical-align: middle;\n",
       "    }\n",
       "\n",
       "    .dataframe tbody tr th {\n",
       "        vertical-align: top;\n",
       "    }\n",
       "\n",
       "    .dataframe thead th {\n",
       "        text-align: right;\n",
       "    }\n",
       "</style>\n",
       "<table border=\"1\" class=\"dataframe\">\n",
       "  <thead>\n",
       "    <tr style=\"text-align: right;\">\n",
       "      <th></th>\n",
       "      <th>text</th>\n",
       "      <th>sentiment</th>\n",
       "      <th>Subjectivity</th>\n",
       "      <th>Polarity</th>\n",
       "      <th>TextBlob Analysis</th>\n",
       "    </tr>\n",
       "  </thead>\n",
       "  <tbody>\n",
       "    <tr>\n",
       "      <th>15196</th>\n",
       "      <td>\" govia thameslink fined £1m over passenger ki...</td>\n",
       "      <td>neutral</td>\n",
       "      <td>0.000000</td>\n",
       "      <td>-0.200000</td>\n",
       "      <td>Negative</td>\n",
       "    </tr>\n",
       "    <tr>\n",
       "      <th>25</th>\n",
       "      <td>\"congestion\" is not a reason for delay, it's a...</td>\n",
       "      <td>negative</td>\n",
       "      <td>0.651515</td>\n",
       "      <td>0.545455</td>\n",
       "      <td>Positive</td>\n",
       "    </tr>\n",
       "    <tr>\n",
       "      <th>26</th>\n",
       "      <td>\"govia thameslink railway (gtr) is facing a £5...</td>\n",
       "      <td>negative</td>\n",
       "      <td>0.340404</td>\n",
       "      <td>0.184343</td>\n",
       "      <td>Positive</td>\n",
       "    </tr>\n",
       "    <tr>\n",
       "      <th>28</th>\n",
       "      <td>\"my apologies passengers, we appear to be havi...</td>\n",
       "      <td>negative</td>\n",
       "      <td>0.000000</td>\n",
       "      <td>0.000000</td>\n",
       "      <td>Neutral</td>\n",
       "    </tr>\n",
       "    <tr>\n",
       "      <th>29</th>\n",
       "      <td>\"no more trains passing through platform . ple...</td>\n",
       "      <td>negative</td>\n",
       "      <td>0.260000</td>\n",
       "      <td>0.090000</td>\n",
       "      <td>Positive</td>\n",
       "    </tr>\n",
       "    <tr>\n",
       "      <th>...</th>\n",
       "      <td>...</td>\n",
       "      <td>...</td>\n",
       "      <td>...</td>\n",
       "      <td>...</td>\n",
       "      <td>...</td>\n",
       "    </tr>\n",
       "    <tr>\n",
       "      <th>15074</th>\n",
       "      <td>to the woman at west hampstead thameslink who...</td>\n",
       "      <td>neutral</td>\n",
       "      <td>0.000000</td>\n",
       "      <td>0.000000</td>\n",
       "      <td>Neutral</td>\n",
       "    </tr>\n",
       "    <tr>\n",
       "      <th>15076</th>\n",
       "      <td>the new thameslink trains use regenerative br...</td>\n",
       "      <td>neutral</td>\n",
       "      <td>0.361818</td>\n",
       "      <td>0.094545</td>\n",
       "      <td>Positive</td>\n",
       "    </tr>\n",
       "    <tr>\n",
       "      <th>15077</th>\n",
       "      <td>•overground: minor delays hackney wick to str...</td>\n",
       "      <td>neutral</td>\n",
       "      <td>0.100000</td>\n",
       "      <td>-0.025000</td>\n",
       "      <td>Negative</td>\n",
       "    </tr>\n",
       "    <tr>\n",
       "      <th>15078</th>\n",
       "      <td>a fault on a train earlier today at city tham...</td>\n",
       "      <td>negative</td>\n",
       "      <td>0.250000</td>\n",
       "      <td>0.000000</td>\n",
       "      <td>Neutral</td>\n",
       "    </tr>\n",
       "    <tr>\n",
       "      <th>15080</th>\n",
       "      <td>service alert - signal failure at wembley par...</td>\n",
       "      <td>neutral</td>\n",
       "      <td>0.400000</td>\n",
       "      <td>-0.090152</td>\n",
       "      <td>Negative</td>\n",
       "    </tr>\n",
       "  </tbody>\n",
       "</table>\n",
       "<p>11588 rows × 5 columns</p>\n",
       "</div>"
      ],
      "text/plain": [
       "                                                    text sentiment  \\\n",
       "15196  \" govia thameslink fined £1m over passenger ki...   neutral   \n",
       "25     \"congestion\" is not a reason for delay, it's a...  negative   \n",
       "26     \"govia thameslink railway (gtr) is facing a £5...  negative   \n",
       "28     \"my apologies passengers, we appear to be havi...  negative   \n",
       "29     \"no more trains passing through platform . ple...  negative   \n",
       "...                                                  ...       ...   \n",
       "15074   to the woman at west hampstead thameslink who...   neutral   \n",
       "15076   the new thameslink trains use regenerative br...   neutral   \n",
       "15077   •overground: minor delays hackney wick to str...   neutral   \n",
       "15078   a fault on a train earlier today at city tham...  negative   \n",
       "15080   service alert - signal failure at wembley par...   neutral   \n",
       "\n",
       "       Subjectivity  Polarity TextBlob Analysis  \n",
       "15196      0.000000 -0.200000          Negative  \n",
       "25         0.651515  0.545455          Positive  \n",
       "26         0.340404  0.184343          Positive  \n",
       "28         0.000000  0.000000           Neutral  \n",
       "29         0.260000  0.090000          Positive  \n",
       "...             ...       ...               ...  \n",
       "15074      0.000000  0.000000           Neutral  \n",
       "15076      0.361818  0.094545          Positive  \n",
       "15077      0.100000 -0.025000          Negative  \n",
       "15078      0.250000  0.000000           Neutral  \n",
       "15080      0.400000 -0.090152          Negative  \n",
       "\n",
       "[11588 rows x 5 columns]"
      ]
     },
     "execution_count": 98,
     "metadata": {},
     "output_type": "execute_result"
    }
   ],
   "source": [
    "# Create 1 new column SentimentAnalysis\n",
    "TextBlob_df['TextBlob Analysis'] = TextBlob_df['Polarity'].apply(SentimentAnalysis)\n",
    "TextBlob_df"
   ]
  },
  {
   "cell_type": "code",
   "execution_count": 99,
   "id": "7bbc490c-4233-4a63-b5d1-8688ee1b06eb",
   "metadata": {},
   "outputs": [
    {
     "data": {
      "text/plain": [
       "sentiment  TextBlob Analysis\n",
       "negative   Negative             3096\n",
       "           Neutral              1520\n",
       "           Positive             2594\n",
       "neutral    Negative             1358\n",
       "           Neutral              1014\n",
       "           Positive             1838\n",
       "positive   Negative               13\n",
       "           Neutral                26\n",
       "           Positive              129\n",
       "dtype: int64"
      ]
     },
     "execution_count": 99,
     "metadata": {},
     "output_type": "execute_result"
    }
   ],
   "source": [
    "TextBlob_df.groupby(['sentiment','TextBlob Analysis']).size()"
   ]
  },
  {
   "cell_type": "markdown",
   "id": "3c7e37bc-e150-4b82-9e7b-da030ba6dbed",
   "metadata": {},
   "source": [
    "# SENTIMENT ANALYSIS WITH VADER"
   ]
  },
  {
   "cell_type": "code",
   "execution_count": 100,
   "id": "2636f7b2-53ce-452d-9dd8-aec73ec984b8",
   "metadata": {},
   "outputs": [
    {
     "name": "stderr",
     "output_type": "stream",
     "text": [
      "[nltk_data] Downloading package vader_lexicon to\n",
      "[nltk_data]     C:\\Users\\Ekin\\AppData\\Roaming\\nltk_data...\n",
      "[nltk_data]   Package vader_lexicon is already up-to-date!\n"
     ]
    },
    {
     "data": {
      "text/plain": [
       "True"
      ]
     },
     "execution_count": 100,
     "metadata": {},
     "output_type": "execute_result"
    }
   ],
   "source": [
    "import nltk\n",
    "nltk.download('vader_lexicon')"
   ]
  },
  {
   "cell_type": "code",
   "execution_count": 101,
   "id": "b2a56a89-079a-410b-a2cf-31d20ff4fa78",
   "metadata": {},
   "outputs": [
    {
     "data": {
      "text/html": [
       "<div>\n",
       "<style scoped>\n",
       "    .dataframe tbody tr th:only-of-type {\n",
       "        vertical-align: middle;\n",
       "    }\n",
       "\n",
       "    .dataframe tbody tr th {\n",
       "        vertical-align: top;\n",
       "    }\n",
       "\n",
       "    .dataframe thead th {\n",
       "        text-align: right;\n",
       "    }\n",
       "</style>\n",
       "<table border=\"1\" class=\"dataframe\">\n",
       "  <thead>\n",
       "    <tr style=\"text-align: right;\">\n",
       "      <th></th>\n",
       "      <th>text</th>\n",
       "      <th>sentiment</th>\n",
       "    </tr>\n",
       "  </thead>\n",
       "  <tbody>\n",
       "    <tr>\n",
       "      <th>15196</th>\n",
       "      <td>\" Govia Thameslink fined £1m over passenger ki...</td>\n",
       "      <td>neutral</td>\n",
       "    </tr>\n",
       "    <tr>\n",
       "      <th>25</th>\n",
       "      <td>\"Congestion\" is NOT a reason for delay, it's a...</td>\n",
       "      <td>negative</td>\n",
       "    </tr>\n",
       "    <tr>\n",
       "      <th>26</th>\n",
       "      <td>\"Govia Thameslink Railway (GTR) is facing a £5...</td>\n",
       "      <td>negative</td>\n",
       "    </tr>\n",
       "    <tr>\n",
       "      <th>28</th>\n",
       "      <td>\"My apologies passengers, we appear to be havi...</td>\n",
       "      <td>negative</td>\n",
       "    </tr>\n",
       "    <tr>\n",
       "      <th>29</th>\n",
       "      <td>\"No more trains passing through platform 5. Pl...</td>\n",
       "      <td>negative</td>\n",
       "    </tr>\n",
       "    <tr>\n",
       "      <th>...</th>\n",
       "      <td>...</td>\n",
       "      <td>...</td>\n",
       "    </tr>\n",
       "    <tr>\n",
       "      <th>15074</th>\n",
       "      <td>🙌 to the woman at West Hampstead Thameslink wh...</td>\n",
       "      <td>neutral</td>\n",
       "    </tr>\n",
       "    <tr>\n",
       "      <th>15076</th>\n",
       "      <td>🚄 The new Thameslink trains use regenerative b...</td>\n",
       "      <td>neutral</td>\n",
       "    </tr>\n",
       "    <tr>\n",
       "      <th>15077</th>\n",
       "      <td>🚄 •Overground: minor delays Hackney Wick to St...</td>\n",
       "      <td>neutral</td>\n",
       "    </tr>\n",
       "    <tr>\n",
       "      <th>15078</th>\n",
       "      <td>🚆 A fault on a train earlier today at City Tha...</td>\n",
       "      <td>negative</td>\n",
       "    </tr>\n",
       "    <tr>\n",
       "      <th>15080</th>\n",
       "      <td>🚇 Service Alert - signal failure at Wembley Pa...</td>\n",
       "      <td>neutral</td>\n",
       "    </tr>\n",
       "  </tbody>\n",
       "</table>\n",
       "<p>11588 rows × 2 columns</p>\n",
       "</div>"
      ],
      "text/plain": [
       "                                                    text sentiment\n",
       "15196  \" Govia Thameslink fined £1m over passenger ki...   neutral\n",
       "25     \"Congestion\" is NOT a reason for delay, it's a...  negative\n",
       "26     \"Govia Thameslink Railway (GTR) is facing a £5...  negative\n",
       "28     \"My apologies passengers, we appear to be havi...  negative\n",
       "29     \"No more trains passing through platform 5. Pl...  negative\n",
       "...                                                  ...       ...\n",
       "15074  🙌 to the woman at West Hampstead Thameslink wh...   neutral\n",
       "15076  🚄 The new Thameslink trains use regenerative b...   neutral\n",
       "15077  🚄 •Overground: minor delays Hackney Wick to St...   neutral\n",
       "15078  🚆 A fault on a train earlier today at City Tha...  negative\n",
       "15080  🚇 Service Alert - signal failure at Wembley Pa...   neutral\n",
       "\n",
       "[11588 rows x 2 columns]"
      ]
     },
     "execution_count": 101,
     "metadata": {},
     "output_type": "execute_result"
    }
   ],
   "source": [
    "sentiment_data"
   ]
  },
  {
   "cell_type": "code",
   "execution_count": 102,
   "id": "99c683b2-5795-4bf7-8156-4163641c3294",
   "metadata": {},
   "outputs": [],
   "source": [
    "Vader_df = sentiment_data.copy()"
   ]
  },
  {
   "cell_type": "code",
   "execution_count": 103,
   "id": "f0244d58-bfd3-4b7e-9154-588199f2c8ad",
   "metadata": {},
   "outputs": [
    {
     "data": {
      "text/html": [
       "<div>\n",
       "<style scoped>\n",
       "    .dataframe tbody tr th:only-of-type {\n",
       "        vertical-align: middle;\n",
       "    }\n",
       "\n",
       "    .dataframe tbody tr th {\n",
       "        vertical-align: top;\n",
       "    }\n",
       "\n",
       "    .dataframe thead th {\n",
       "        text-align: right;\n",
       "    }\n",
       "</style>\n",
       "<table border=\"1\" class=\"dataframe\">\n",
       "  <thead>\n",
       "    <tr style=\"text-align: right;\">\n",
       "      <th></th>\n",
       "      <th>text</th>\n",
       "      <th>sentiment</th>\n",
       "    </tr>\n",
       "  </thead>\n",
       "  <tbody>\n",
       "    <tr>\n",
       "      <th>15196</th>\n",
       "      <td>\" govia thameslink fined £1m over passenger ki...</td>\n",
       "      <td>neutral</td>\n",
       "    </tr>\n",
       "    <tr>\n",
       "      <th>25</th>\n",
       "      <td>\"congestion\" is not a reason for delay, it's a...</td>\n",
       "      <td>negative</td>\n",
       "    </tr>\n",
       "    <tr>\n",
       "      <th>26</th>\n",
       "      <td>\"govia thameslink railway (gtr) is facing a £5...</td>\n",
       "      <td>negative</td>\n",
       "    </tr>\n",
       "    <tr>\n",
       "      <th>28</th>\n",
       "      <td>\"my apologies passengers, we appear to be havi...</td>\n",
       "      <td>negative</td>\n",
       "    </tr>\n",
       "    <tr>\n",
       "      <th>29</th>\n",
       "      <td>\"no more trains passing through platform . ple...</td>\n",
       "      <td>negative</td>\n",
       "    </tr>\n",
       "    <tr>\n",
       "      <th>...</th>\n",
       "      <td>...</td>\n",
       "      <td>...</td>\n",
       "    </tr>\n",
       "    <tr>\n",
       "      <th>15074</th>\n",
       "      <td>to the woman at west hampstead thameslink who...</td>\n",
       "      <td>neutral</td>\n",
       "    </tr>\n",
       "    <tr>\n",
       "      <th>15076</th>\n",
       "      <td>the new thameslink trains use regenerative br...</td>\n",
       "      <td>neutral</td>\n",
       "    </tr>\n",
       "    <tr>\n",
       "      <th>15077</th>\n",
       "      <td>•overground: minor delays hackney wick to str...</td>\n",
       "      <td>neutral</td>\n",
       "    </tr>\n",
       "    <tr>\n",
       "      <th>15078</th>\n",
       "      <td>a fault on a train earlier today at city tham...</td>\n",
       "      <td>negative</td>\n",
       "    </tr>\n",
       "    <tr>\n",
       "      <th>15080</th>\n",
       "      <td>service alert - signal failure at wembley par...</td>\n",
       "      <td>neutral</td>\n",
       "    </tr>\n",
       "  </tbody>\n",
       "</table>\n",
       "<p>11588 rows × 2 columns</p>\n",
       "</div>"
      ],
      "text/plain": [
       "                                                    text sentiment\n",
       "15196  \" govia thameslink fined £1m over passenger ki...   neutral\n",
       "25     \"congestion\" is not a reason for delay, it's a...  negative\n",
       "26     \"govia thameslink railway (gtr) is facing a £5...  negative\n",
       "28     \"my apologies passengers, we appear to be havi...  negative\n",
       "29     \"no more trains passing through platform . ple...  negative\n",
       "...                                                  ...       ...\n",
       "15074   to the woman at west hampstead thameslink who...   neutral\n",
       "15076   the new thameslink trains use regenerative br...   neutral\n",
       "15077   •overground: minor delays hackney wick to str...   neutral\n",
       "15078   a fault on a train earlier today at city tham...  negative\n",
       "15080   service alert - signal failure at wembley par...   neutral\n",
       "\n",
       "[11588 rows x 2 columns]"
      ]
     },
     "execution_count": 103,
     "metadata": {},
     "output_type": "execute_result"
    }
   ],
   "source": [
    "# Clean the tweet content\n",
    "\n",
    "Vader_df['text'] = Vader_df['text'].apply(cleanText)\n",
    "Vader_df"
   ]
  },
  {
   "cell_type": "code",
   "execution_count": 104,
   "id": "30b0ed76-103a-464c-9623-c039222de2ea",
   "metadata": {},
   "outputs": [
    {
     "data": {
      "text/html": [
       "<div>\n",
       "<style scoped>\n",
       "    .dataframe tbody tr th:only-of-type {\n",
       "        vertical-align: middle;\n",
       "    }\n",
       "\n",
       "    .dataframe tbody tr th {\n",
       "        vertical-align: top;\n",
       "    }\n",
       "\n",
       "    .dataframe thead th {\n",
       "        text-align: right;\n",
       "    }\n",
       "</style>\n",
       "<table border=\"1\" class=\"dataframe\">\n",
       "  <thead>\n",
       "    <tr style=\"text-align: right;\">\n",
       "      <th></th>\n",
       "      <th>id</th>\n",
       "      <th>text</th>\n",
       "      <th>sentiment</th>\n",
       "    </tr>\n",
       "  </thead>\n",
       "  <tbody>\n",
       "    <tr>\n",
       "      <th>0</th>\n",
       "      <td>0</td>\n",
       "      <td>\" govia thameslink fined £1m over passenger ki...</td>\n",
       "      <td>neutral</td>\n",
       "    </tr>\n",
       "    <tr>\n",
       "      <th>1</th>\n",
       "      <td>1</td>\n",
       "      <td>\"congestion\" is not a reason for delay, it's a...</td>\n",
       "      <td>negative</td>\n",
       "    </tr>\n",
       "    <tr>\n",
       "      <th>2</th>\n",
       "      <td>2</td>\n",
       "      <td>\"govia thameslink railway (gtr) is facing a £5...</td>\n",
       "      <td>negative</td>\n",
       "    </tr>\n",
       "    <tr>\n",
       "      <th>3</th>\n",
       "      <td>3</td>\n",
       "      <td>\"my apologies passengers, we appear to be havi...</td>\n",
       "      <td>negative</td>\n",
       "    </tr>\n",
       "    <tr>\n",
       "      <th>4</th>\n",
       "      <td>4</td>\n",
       "      <td>\"no more trains passing through platform . ple...</td>\n",
       "      <td>negative</td>\n",
       "    </tr>\n",
       "    <tr>\n",
       "      <th>...</th>\n",
       "      <td>...</td>\n",
       "      <td>...</td>\n",
       "      <td>...</td>\n",
       "    </tr>\n",
       "    <tr>\n",
       "      <th>11583</th>\n",
       "      <td>11583</td>\n",
       "      <td>to the woman at west hampstead thameslink who...</td>\n",
       "      <td>neutral</td>\n",
       "    </tr>\n",
       "    <tr>\n",
       "      <th>11584</th>\n",
       "      <td>11584</td>\n",
       "      <td>the new thameslink trains use regenerative br...</td>\n",
       "      <td>neutral</td>\n",
       "    </tr>\n",
       "    <tr>\n",
       "      <th>11585</th>\n",
       "      <td>11585</td>\n",
       "      <td>•overground: minor delays hackney wick to str...</td>\n",
       "      <td>neutral</td>\n",
       "    </tr>\n",
       "    <tr>\n",
       "      <th>11586</th>\n",
       "      <td>11586</td>\n",
       "      <td>a fault on a train earlier today at city tham...</td>\n",
       "      <td>negative</td>\n",
       "    </tr>\n",
       "    <tr>\n",
       "      <th>11587</th>\n",
       "      <td>11587</td>\n",
       "      <td>service alert - signal failure at wembley par...</td>\n",
       "      <td>neutral</td>\n",
       "    </tr>\n",
       "  </tbody>\n",
       "</table>\n",
       "<p>11588 rows × 3 columns</p>\n",
       "</div>"
      ],
      "text/plain": [
       "          id                                               text sentiment\n",
       "0          0  \" govia thameslink fined £1m over passenger ki...   neutral\n",
       "1          1  \"congestion\" is not a reason for delay, it's a...  negative\n",
       "2          2  \"govia thameslink railway (gtr) is facing a £5...  negative\n",
       "3          3  \"my apologies passengers, we appear to be havi...  negative\n",
       "4          4  \"no more trains passing through platform . ple...  negative\n",
       "...      ...                                                ...       ...\n",
       "11583  11583   to the woman at west hampstead thameslink who...   neutral\n",
       "11584  11584   the new thameslink trains use regenerative br...   neutral\n",
       "11585  11585   •overground: minor delays hackney wick to str...   neutral\n",
       "11586  11586   a fault on a train earlier today at city tham...  negative\n",
       "11587  11587   service alert - signal failure at wembley par...   neutral\n",
       "\n",
       "[11588 rows x 3 columns]"
      ]
     },
     "execution_count": 104,
     "metadata": {},
     "output_type": "execute_result"
    }
   ],
   "source": [
    "# reset the index and create column id\n",
    "\n",
    "Vader_df = Vader_df.reset_index()\n",
    "Vader_df.drop('index', axis=1, inplace=True)\n",
    "Vader_df.insert(0, 'id', Vader_df.index)\n",
    "Vader_df"
   ]
  },
  {
   "cell_type": "code",
   "execution_count": 105,
   "id": "88fdfbe0-a344-485f-bbee-a72a248e6c15",
   "metadata": {},
   "outputs": [],
   "source": [
    "from nltk.sentiment.vader import SentimentIntensityAnalyzer\n",
    "\n",
    "analysis = SentimentIntensityAnalyzer()"
   ]
  },
  {
   "cell_type": "code",
   "execution_count": 106,
   "id": "0839577b-7e2d-4861-982b-09f05594ac69",
   "metadata": {},
   "outputs": [],
   "source": [
    "# Run the polarity score on the entire dataset\n",
    "\n",
    "from itertools import islice #import to run the for loop for the number of row & col of your choice\n",
    "\n",
    "result = {}\n",
    "\n",
    "for index, row in islice(Vader_df.iterrows(), 0, len(Vader_df)):\n",
    "    text = row['text']\n",
    "    myid = row['id']\n",
    "    \n",
    "    result[myid] = analysis.polarity_scores(text)"
   ]
  },
  {
   "cell_type": "code",
   "execution_count": 107,
   "id": "5885b0dc-927e-4076-b8e0-6cad3f8e2708",
   "metadata": {},
   "outputs": [],
   "source": [
    "#result"
   ]
  },
  {
   "cell_type": "code",
   "execution_count": 108,
   "id": "e655aea1-da76-4967-9258-c9e004f9d18c",
   "metadata": {},
   "outputs": [
    {
     "data": {
      "text/html": [
       "<div>\n",
       "<style scoped>\n",
       "    .dataframe tbody tr th:only-of-type {\n",
       "        vertical-align: middle;\n",
       "    }\n",
       "\n",
       "    .dataframe tbody tr th {\n",
       "        vertical-align: top;\n",
       "    }\n",
       "\n",
       "    .dataframe thead th {\n",
       "        text-align: right;\n",
       "    }\n",
       "</style>\n",
       "<table border=\"1\" class=\"dataframe\">\n",
       "  <thead>\n",
       "    <tr style=\"text-align: right;\">\n",
       "      <th></th>\n",
       "      <th>neg</th>\n",
       "      <th>neu</th>\n",
       "      <th>pos</th>\n",
       "      <th>compound</th>\n",
       "    </tr>\n",
       "  </thead>\n",
       "  <tbody>\n",
       "    <tr>\n",
       "      <th>0</th>\n",
       "      <td>0.290</td>\n",
       "      <td>0.710</td>\n",
       "      <td>0.000</td>\n",
       "      <td>-0.6705</td>\n",
       "    </tr>\n",
       "    <tr>\n",
       "      <th>1</th>\n",
       "      <td>0.099</td>\n",
       "      <td>0.722</td>\n",
       "      <td>0.178</td>\n",
       "      <td>0.3870</td>\n",
       "    </tr>\n",
       "    <tr>\n",
       "      <th>2</th>\n",
       "      <td>0.101</td>\n",
       "      <td>0.849</td>\n",
       "      <td>0.049</td>\n",
       "      <td>-0.4404</td>\n",
       "    </tr>\n",
       "    <tr>\n",
       "      <th>3</th>\n",
       "      <td>0.000</td>\n",
       "      <td>1.000</td>\n",
       "      <td>0.000</td>\n",
       "      <td>0.0000</td>\n",
       "    </tr>\n",
       "    <tr>\n",
       "      <th>4</th>\n",
       "      <td>0.096</td>\n",
       "      <td>0.779</td>\n",
       "      <td>0.125</td>\n",
       "      <td>0.3329</td>\n",
       "    </tr>\n",
       "    <tr>\n",
       "      <th>...</th>\n",
       "      <td>...</td>\n",
       "      <td>...</td>\n",
       "      <td>...</td>\n",
       "      <td>...</td>\n",
       "    </tr>\n",
       "    <tr>\n",
       "      <th>11583</th>\n",
       "      <td>0.000</td>\n",
       "      <td>1.000</td>\n",
       "      <td>0.000</td>\n",
       "      <td>0.0000</td>\n",
       "    </tr>\n",
       "    <tr>\n",
       "      <th>11584</th>\n",
       "      <td>0.000</td>\n",
       "      <td>0.896</td>\n",
       "      <td>0.104</td>\n",
       "      <td>0.4939</td>\n",
       "    </tr>\n",
       "    <tr>\n",
       "      <th>11585</th>\n",
       "      <td>0.169</td>\n",
       "      <td>0.831</td>\n",
       "      <td>0.000</td>\n",
       "      <td>-0.6249</td>\n",
       "    </tr>\n",
       "    <tr>\n",
       "      <th>11586</th>\n",
       "      <td>0.182</td>\n",
       "      <td>0.818</td>\n",
       "      <td>0.000</td>\n",
       "      <td>-0.7269</td>\n",
       "    </tr>\n",
       "    <tr>\n",
       "      <th>11587</th>\n",
       "      <td>0.179</td>\n",
       "      <td>0.773</td>\n",
       "      <td>0.049</td>\n",
       "      <td>-0.7096</td>\n",
       "    </tr>\n",
       "  </tbody>\n",
       "</table>\n",
       "<p>11588 rows × 4 columns</p>\n",
       "</div>"
      ],
      "text/plain": [
       "         neg    neu    pos  compound\n",
       "0      0.290  0.710  0.000   -0.6705\n",
       "1      0.099  0.722  0.178    0.3870\n",
       "2      0.101  0.849  0.049   -0.4404\n",
       "3      0.000  1.000  0.000    0.0000\n",
       "4      0.096  0.779  0.125    0.3329\n",
       "...      ...    ...    ...       ...\n",
       "11583  0.000  1.000  0.000    0.0000\n",
       "11584  0.000  0.896  0.104    0.4939\n",
       "11585  0.169  0.831  0.000   -0.6249\n",
       "11586  0.182  0.818  0.000   -0.7269\n",
       "11587  0.179  0.773  0.049   -0.7096\n",
       "\n",
       "[11588 rows x 4 columns]"
      ]
     },
     "execution_count": 108,
     "metadata": {},
     "output_type": "execute_result"
    }
   ],
   "source": [
    "pd.DataFrame(result).T"
   ]
  },
  {
   "cell_type": "code",
   "execution_count": 109,
   "id": "ddefed0c-c0c2-421a-9058-0d46022002f3",
   "metadata": {},
   "outputs": [],
   "source": [
    "vaders = pd.DataFrame(result).T\n",
    "vaders = vaders.reset_index().rename(columns = {'index': 'id'})\n",
    "vaders = vaders.merge(Vader_df, how='left')"
   ]
  },
  {
   "cell_type": "code",
   "execution_count": 110,
   "id": "a9271736-31c5-4c7d-af72-3e6819aac88e",
   "metadata": {},
   "outputs": [
    {
     "data": {
      "text/html": [
       "<div>\n",
       "<style scoped>\n",
       "    .dataframe tbody tr th:only-of-type {\n",
       "        vertical-align: middle;\n",
       "    }\n",
       "\n",
       "    .dataframe tbody tr th {\n",
       "        vertical-align: top;\n",
       "    }\n",
       "\n",
       "    .dataframe thead th {\n",
       "        text-align: right;\n",
       "    }\n",
       "</style>\n",
       "<table border=\"1\" class=\"dataframe\">\n",
       "  <thead>\n",
       "    <tr style=\"text-align: right;\">\n",
       "      <th></th>\n",
       "      <th>id</th>\n",
       "      <th>neg</th>\n",
       "      <th>neu</th>\n",
       "      <th>pos</th>\n",
       "      <th>compound</th>\n",
       "      <th>text</th>\n",
       "      <th>sentiment</th>\n",
       "    </tr>\n",
       "  </thead>\n",
       "  <tbody>\n",
       "    <tr>\n",
       "      <th>0</th>\n",
       "      <td>0</td>\n",
       "      <td>0.290</td>\n",
       "      <td>0.710</td>\n",
       "      <td>0.000</td>\n",
       "      <td>-0.6705</td>\n",
       "      <td>\" govia thameslink fined £1m over passenger ki...</td>\n",
       "      <td>neutral</td>\n",
       "    </tr>\n",
       "    <tr>\n",
       "      <th>1</th>\n",
       "      <td>1</td>\n",
       "      <td>0.099</td>\n",
       "      <td>0.722</td>\n",
       "      <td>0.178</td>\n",
       "      <td>0.3870</td>\n",
       "      <td>\"congestion\" is not a reason for delay, it's a...</td>\n",
       "      <td>negative</td>\n",
       "    </tr>\n",
       "    <tr>\n",
       "      <th>2</th>\n",
       "      <td>2</td>\n",
       "      <td>0.101</td>\n",
       "      <td>0.849</td>\n",
       "      <td>0.049</td>\n",
       "      <td>-0.4404</td>\n",
       "      <td>\"govia thameslink railway (gtr) is facing a £5...</td>\n",
       "      <td>negative</td>\n",
       "    </tr>\n",
       "    <tr>\n",
       "      <th>3</th>\n",
       "      <td>3</td>\n",
       "      <td>0.000</td>\n",
       "      <td>1.000</td>\n",
       "      <td>0.000</td>\n",
       "      <td>0.0000</td>\n",
       "      <td>\"my apologies passengers, we appear to be havi...</td>\n",
       "      <td>negative</td>\n",
       "    </tr>\n",
       "    <tr>\n",
       "      <th>4</th>\n",
       "      <td>4</td>\n",
       "      <td>0.096</td>\n",
       "      <td>0.779</td>\n",
       "      <td>0.125</td>\n",
       "      <td>0.3329</td>\n",
       "      <td>\"no more trains passing through platform . ple...</td>\n",
       "      <td>negative</td>\n",
       "    </tr>\n",
       "    <tr>\n",
       "      <th>...</th>\n",
       "      <td>...</td>\n",
       "      <td>...</td>\n",
       "      <td>...</td>\n",
       "      <td>...</td>\n",
       "      <td>...</td>\n",
       "      <td>...</td>\n",
       "      <td>...</td>\n",
       "    </tr>\n",
       "    <tr>\n",
       "      <th>11583</th>\n",
       "      <td>11583</td>\n",
       "      <td>0.000</td>\n",
       "      <td>1.000</td>\n",
       "      <td>0.000</td>\n",
       "      <td>0.0000</td>\n",
       "      <td>to the woman at west hampstead thameslink who...</td>\n",
       "      <td>neutral</td>\n",
       "    </tr>\n",
       "    <tr>\n",
       "      <th>11584</th>\n",
       "      <td>11584</td>\n",
       "      <td>0.000</td>\n",
       "      <td>0.896</td>\n",
       "      <td>0.104</td>\n",
       "      <td>0.4939</td>\n",
       "      <td>the new thameslink trains use regenerative br...</td>\n",
       "      <td>neutral</td>\n",
       "    </tr>\n",
       "    <tr>\n",
       "      <th>11585</th>\n",
       "      <td>11585</td>\n",
       "      <td>0.169</td>\n",
       "      <td>0.831</td>\n",
       "      <td>0.000</td>\n",
       "      <td>-0.6249</td>\n",
       "      <td>•overground: minor delays hackney wick to str...</td>\n",
       "      <td>neutral</td>\n",
       "    </tr>\n",
       "    <tr>\n",
       "      <th>11586</th>\n",
       "      <td>11586</td>\n",
       "      <td>0.182</td>\n",
       "      <td>0.818</td>\n",
       "      <td>0.000</td>\n",
       "      <td>-0.7269</td>\n",
       "      <td>a fault on a train earlier today at city tham...</td>\n",
       "      <td>negative</td>\n",
       "    </tr>\n",
       "    <tr>\n",
       "      <th>11587</th>\n",
       "      <td>11587</td>\n",
       "      <td>0.179</td>\n",
       "      <td>0.773</td>\n",
       "      <td>0.049</td>\n",
       "      <td>-0.7096</td>\n",
       "      <td>service alert - signal failure at wembley par...</td>\n",
       "      <td>neutral</td>\n",
       "    </tr>\n",
       "  </tbody>\n",
       "</table>\n",
       "<p>11588 rows × 7 columns</p>\n",
       "</div>"
      ],
      "text/plain": [
       "          id    neg    neu    pos  compound  \\\n",
       "0          0  0.290  0.710  0.000   -0.6705   \n",
       "1          1  0.099  0.722  0.178    0.3870   \n",
       "2          2  0.101  0.849  0.049   -0.4404   \n",
       "3          3  0.000  1.000  0.000    0.0000   \n",
       "4          4  0.096  0.779  0.125    0.3329   \n",
       "...      ...    ...    ...    ...       ...   \n",
       "11583  11583  0.000  1.000  0.000    0.0000   \n",
       "11584  11584  0.000  0.896  0.104    0.4939   \n",
       "11585  11585  0.169  0.831  0.000   -0.6249   \n",
       "11586  11586  0.182  0.818  0.000   -0.7269   \n",
       "11587  11587  0.179  0.773  0.049   -0.7096   \n",
       "\n",
       "                                                    text sentiment  \n",
       "0      \" govia thameslink fined £1m over passenger ki...   neutral  \n",
       "1      \"congestion\" is not a reason for delay, it's a...  negative  \n",
       "2      \"govia thameslink railway (gtr) is facing a £5...  negative  \n",
       "3      \"my apologies passengers, we appear to be havi...  negative  \n",
       "4      \"no more trains passing through platform . ple...  negative  \n",
       "...                                                  ...       ...  \n",
       "11583   to the woman at west hampstead thameslink who...   neutral  \n",
       "11584   the new thameslink trains use regenerative br...   neutral  \n",
       "11585   •overground: minor delays hackney wick to str...   neutral  \n",
       "11586   a fault on a train earlier today at city tham...  negative  \n",
       "11587   service alert - signal failure at wembley par...   neutral  \n",
       "\n",
       "[11588 rows x 7 columns]"
      ]
     },
     "execution_count": 110,
     "metadata": {},
     "output_type": "execute_result"
    }
   ],
   "source": [
    "vaders"
   ]
  },
  {
   "cell_type": "code",
   "execution_count": 111,
   "id": "39b51341-54c5-4911-a26c-6ff56e6a25a4",
   "metadata": {},
   "outputs": [
    {
     "data": {
      "text/html": [
       "<div>\n",
       "<style scoped>\n",
       "    .dataframe tbody tr th:only-of-type {\n",
       "        vertical-align: middle;\n",
       "    }\n",
       "\n",
       "    .dataframe tbody tr th {\n",
       "        vertical-align: top;\n",
       "    }\n",
       "\n",
       "    .dataframe thead th {\n",
       "        text-align: right;\n",
       "    }\n",
       "</style>\n",
       "<table border=\"1\" class=\"dataframe\">\n",
       "  <thead>\n",
       "    <tr style=\"text-align: right;\">\n",
       "      <th></th>\n",
       "      <th>id</th>\n",
       "      <th>neg</th>\n",
       "      <th>neu</th>\n",
       "      <th>pos</th>\n",
       "      <th>compound</th>\n",
       "      <th>text</th>\n",
       "      <th>sentiment</th>\n",
       "      <th>VADER Analysis</th>\n",
       "    </tr>\n",
       "  </thead>\n",
       "  <tbody>\n",
       "    <tr>\n",
       "      <th>0</th>\n",
       "      <td>0</td>\n",
       "      <td>0.290</td>\n",
       "      <td>0.710</td>\n",
       "      <td>0.000</td>\n",
       "      <td>-0.6705</td>\n",
       "      <td>\" govia thameslink fined £1m over passenger ki...</td>\n",
       "      <td>neutral</td>\n",
       "      <td>negative</td>\n",
       "    </tr>\n",
       "    <tr>\n",
       "      <th>1</th>\n",
       "      <td>1</td>\n",
       "      <td>0.099</td>\n",
       "      <td>0.722</td>\n",
       "      <td>0.178</td>\n",
       "      <td>0.3870</td>\n",
       "      <td>\"congestion\" is not a reason for delay, it's a...</td>\n",
       "      <td>negative</td>\n",
       "      <td>positive</td>\n",
       "    </tr>\n",
       "    <tr>\n",
       "      <th>2</th>\n",
       "      <td>2</td>\n",
       "      <td>0.101</td>\n",
       "      <td>0.849</td>\n",
       "      <td>0.049</td>\n",
       "      <td>-0.4404</td>\n",
       "      <td>\"govia thameslink railway (gtr) is facing a £5...</td>\n",
       "      <td>negative</td>\n",
       "      <td>negative</td>\n",
       "    </tr>\n",
       "    <tr>\n",
       "      <th>3</th>\n",
       "      <td>3</td>\n",
       "      <td>0.000</td>\n",
       "      <td>1.000</td>\n",
       "      <td>0.000</td>\n",
       "      <td>0.0000</td>\n",
       "      <td>\"my apologies passengers, we appear to be havi...</td>\n",
       "      <td>negative</td>\n",
       "      <td>neutral</td>\n",
       "    </tr>\n",
       "    <tr>\n",
       "      <th>4</th>\n",
       "      <td>4</td>\n",
       "      <td>0.096</td>\n",
       "      <td>0.779</td>\n",
       "      <td>0.125</td>\n",
       "      <td>0.3329</td>\n",
       "      <td>\"no more trains passing through platform . ple...</td>\n",
       "      <td>negative</td>\n",
       "      <td>positive</td>\n",
       "    </tr>\n",
       "  </tbody>\n",
       "</table>\n",
       "</div>"
      ],
      "text/plain": [
       "   id    neg    neu    pos  compound  \\\n",
       "0   0  0.290  0.710  0.000   -0.6705   \n",
       "1   1  0.099  0.722  0.178    0.3870   \n",
       "2   2  0.101  0.849  0.049   -0.4404   \n",
       "3   3  0.000  1.000  0.000    0.0000   \n",
       "4   4  0.096  0.779  0.125    0.3329   \n",
       "\n",
       "                                                text sentiment VADER Analysis  \n",
       "0  \" govia thameslink fined £1m over passenger ki...   neutral       negative  \n",
       "1  \"congestion\" is not a reason for delay, it's a...  negative       positive  \n",
       "2  \"govia thameslink railway (gtr) is facing a £5...  negative       negative  \n",
       "3  \"my apologies passengers, we appear to be havi...  negative        neutral  \n",
       "4  \"no more trains passing through platform . ple...  negative       positive  "
      ]
     },
     "execution_count": 111,
     "metadata": {},
     "output_type": "execute_result"
    }
   ],
   "source": [
    "# create a list of conditions\n",
    "conditions =[\n",
    "    (vaders['compound'] < 0),\n",
    "    (vaders['compound'] == 0),\n",
    "    (vaders['compound'] > 0)\n",
    "    ]\n",
    "\n",
    "# create a list of sentiment value to assign for each condition\n",
    "values = ['negative', 'neutral', 'positive']\n",
    "\n",
    "# create a new column and use np.select to assign values to it using the above lists as arguments\n",
    "vaders['VADER Analysis'] = np.select(conditions, values)\n",
    "\n",
    "# display updated DataFrame\n",
    "vaders.head()"
   ]
  },
  {
   "cell_type": "code",
   "execution_count": 112,
   "id": "fdef333e-f0ec-4e78-91a4-15bf020db4d8",
   "metadata": {},
   "outputs": [
    {
     "data": {
      "text/plain": [
       "sentiment  VADER Analysis\n",
       "negative   negative          4380\n",
       "           neutral            775\n",
       "           positive          2055\n",
       "neutral    negative          1967\n",
       "           neutral            604\n",
       "           positive          1639\n",
       "positive   negative            14\n",
       "           neutral             20\n",
       "           positive           134\n",
       "dtype: int64"
      ]
     },
     "execution_count": 112,
     "metadata": {},
     "output_type": "execute_result"
    }
   ],
   "source": [
    "vaders.groupby(['sentiment','VADER Analysis']).size()"
   ]
  },
  {
   "cell_type": "markdown",
   "id": "964afdd9",
   "metadata": {},
   "source": [
    "# SENTIMENT ANALYSIS WITH LOGISTIC REGRESSION"
   ]
  },
  {
   "cell_type": "code",
   "execution_count": 113,
   "id": "412d7be2",
   "metadata": {},
   "outputs": [],
   "source": [
    "from imblearn.combine import SMOTEENN\n",
    "from imblearn.over_sampling import SMOTE, ADASYN, RandomOverSampler\n",
    "from imblearn.under_sampling import RandomUnderSampler\n",
    "from imblearn.combine import SMOTETomek\n",
    "from collections import Counter"
   ]
  },
  {
   "cell_type": "code",
   "execution_count": 114,
   "id": "b2a65a60",
   "metadata": {},
   "outputs": [],
   "source": [
    "from sklearn.feature_extraction.text import CountVectorizer\n",
    "from sklearn.linear_model import LogisticRegression\n",
    "from sklearn.preprocessing import LabelEncoder"
   ]
  },
  {
   "cell_type": "code",
   "execution_count": 115,
   "id": "14cea675",
   "metadata": {},
   "outputs": [
    {
     "data": {
      "text/html": [
       "<div>\n",
       "<style scoped>\n",
       "    .dataframe tbody tr th:only-of-type {\n",
       "        vertical-align: middle;\n",
       "    }\n",
       "\n",
       "    .dataframe tbody tr th {\n",
       "        vertical-align: top;\n",
       "    }\n",
       "\n",
       "    .dataframe thead th {\n",
       "        text-align: right;\n",
       "    }\n",
       "</style>\n",
       "<table border=\"1\" class=\"dataframe\">\n",
       "  <thead>\n",
       "    <tr style=\"text-align: right;\">\n",
       "      <th></th>\n",
       "      <th>text</th>\n",
       "      <th>sentiment</th>\n",
       "    </tr>\n",
       "  </thead>\n",
       "  <tbody>\n",
       "    <tr>\n",
       "      <th>5025</th>\n",
       "      <td>usual delays totalling  minutes; means i don...</td>\n",
       "      <td>negative</td>\n",
       "    </tr>\n",
       "    <tr>\n",
       "      <th>3797</th>\n",
       "      <td>every day every train is delayed these days</td>\n",
       "      <td>negative</td>\n",
       "    </tr>\n",
       "    <tr>\n",
       "      <th>10857</th>\n",
       "      <td>there used to be a scheme where if franchise...</td>\n",
       "      <td>negative</td>\n",
       "    </tr>\n",
       "    <tr>\n",
       "      <th>4520</th>\n",
       "      <td>. farringdon to elstree delayed enroute and i...</td>\n",
       "      <td>negative</td>\n",
       "    </tr>\n",
       "    <tr>\n",
       "      <th>16359</th>\n",
       "      <td>bbc news - govia thameslink fined £1m over gat...</td>\n",
       "      <td>negative</td>\n",
       "    </tr>\n",
       "    <tr>\n",
       "      <th>...</th>\n",
       "      <td>...</td>\n",
       "      <td>...</td>\n",
       "    </tr>\n",
       "    <tr>\n",
       "      <th>4399</th>\n",
       "      <td>on the : service from ravensbourne towards l...</td>\n",
       "      <td>negative</td>\n",
       "    </tr>\n",
       "    <tr>\n",
       "      <th>14587</th>\n",
       "      <td>⚠️  - due to a passenger being taken ill on a ...</td>\n",
       "      <td>negative</td>\n",
       "    </tr>\n",
       "    <tr>\n",
       "      <th>12915</th>\n",
       "      <td>not again. only last week massive delays and c...</td>\n",
       "      <td>negative</td>\n",
       "    </tr>\n",
       "    <tr>\n",
       "      <th>16408</th>\n",
       "      <td>definitely haven’t missed the stress of intern...</td>\n",
       "      <td>negative</td>\n",
       "    </tr>\n",
       "    <tr>\n",
       "      <th>14351</th>\n",
       "      <td>yet again  you drop station stops - why should...</td>\n",
       "      <td>negative</td>\n",
       "    </tr>\n",
       "  </tbody>\n",
       "</table>\n",
       "<p>2543 rows × 2 columns</p>\n",
       "</div>"
      ],
      "text/plain": [
       "                                                    text sentiment\n",
       "5025     usual delays totalling  minutes; means i don...  negative\n",
       "3797         every day every train is delayed these days  negative\n",
       "10857    there used to be a scheme where if franchise...  negative\n",
       "4520    . farringdon to elstree delayed enroute and i...  negative\n",
       "16359  bbc news - govia thameslink fined £1m over gat...  negative\n",
       "...                                                  ...       ...\n",
       "4399     on the : service from ravensbourne towards l...  negative\n",
       "14587  ⚠️  - due to a passenger being taken ill on a ...  negative\n",
       "12915  not again. only last week massive delays and c...  negative\n",
       "16408  definitely haven’t missed the stress of intern...  negative\n",
       "14351  yet again  you drop station stops - why should...  negative\n",
       "\n",
       "[2543 rows x 2 columns]"
      ]
     },
     "execution_count": 115,
     "metadata": {},
     "output_type": "execute_result"
    }
   ],
   "source": [
    "Test_df = pd.DataFrame(X_test)\n",
    "Test_df['sentiment'] = y_test\n",
    "Test_df['text'] = Test_df['text'].apply(cleanText)\n",
    "Test_df"
   ]
  },
  {
   "cell_type": "code",
   "execution_count": 116,
   "id": "e9855e2d",
   "metadata": {},
   "outputs": [
    {
     "data": {
      "text/html": [
       "<div>\n",
       "<style scoped>\n",
       "    .dataframe tbody tr th:only-of-type {\n",
       "        vertical-align: middle;\n",
       "    }\n",
       "\n",
       "    .dataframe tbody tr th {\n",
       "        vertical-align: top;\n",
       "    }\n",
       "\n",
       "    .dataframe thead th {\n",
       "        text-align: right;\n",
       "    }\n",
       "</style>\n",
       "<table border=\"1\" class=\"dataframe\">\n",
       "  <thead>\n",
       "    <tr style=\"text-align: right;\">\n",
       "      <th></th>\n",
       "      <th>text</th>\n",
       "      <th>sentiment</th>\n",
       "    </tr>\n",
       "  </thead>\n",
       "  <tbody>\n",
       "    <tr>\n",
       "      <th>15196</th>\n",
       "      <td>\" govia thameslink fined £1m over passenger ki...</td>\n",
       "      <td>neutral</td>\n",
       "    </tr>\n",
       "    <tr>\n",
       "      <th>25</th>\n",
       "      <td>\"congestion\" is not a reason for delay, it's a...</td>\n",
       "      <td>negative</td>\n",
       "    </tr>\n",
       "    <tr>\n",
       "      <th>26</th>\n",
       "      <td>\"govia thameslink railway (gtr) is facing a £5...</td>\n",
       "      <td>negative</td>\n",
       "    </tr>\n",
       "    <tr>\n",
       "      <th>28</th>\n",
       "      <td>\"my apologies passengers, we appear to be havi...</td>\n",
       "      <td>negative</td>\n",
       "    </tr>\n",
       "    <tr>\n",
       "      <th>29</th>\n",
       "      <td>\"no more trains passing through platform . ple...</td>\n",
       "      <td>negative</td>\n",
       "    </tr>\n",
       "    <tr>\n",
       "      <th>...</th>\n",
       "      <td>...</td>\n",
       "      <td>...</td>\n",
       "    </tr>\n",
       "    <tr>\n",
       "      <th>15074</th>\n",
       "      <td>to the woman at west hampstead thameslink who...</td>\n",
       "      <td>neutral</td>\n",
       "    </tr>\n",
       "    <tr>\n",
       "      <th>15076</th>\n",
       "      <td>the new thameslink trains use regenerative br...</td>\n",
       "      <td>neutral</td>\n",
       "    </tr>\n",
       "    <tr>\n",
       "      <th>15077</th>\n",
       "      <td>•overground: minor delays hackney wick to str...</td>\n",
       "      <td>neutral</td>\n",
       "    </tr>\n",
       "    <tr>\n",
       "      <th>15078</th>\n",
       "      <td>a fault on a train earlier today at city tham...</td>\n",
       "      <td>negative</td>\n",
       "    </tr>\n",
       "    <tr>\n",
       "      <th>15080</th>\n",
       "      <td>service alert - signal failure at wembley par...</td>\n",
       "      <td>neutral</td>\n",
       "    </tr>\n",
       "  </tbody>\n",
       "</table>\n",
       "<p>11588 rows × 2 columns</p>\n",
       "</div>"
      ],
      "text/plain": [
       "                                                    text sentiment\n",
       "15196  \" govia thameslink fined £1m over passenger ki...   neutral\n",
       "25     \"congestion\" is not a reason for delay, it's a...  negative\n",
       "26     \"govia thameslink railway (gtr) is facing a £5...  negative\n",
       "28     \"my apologies passengers, we appear to be havi...  negative\n",
       "29     \"no more trains passing through platform . ple...  negative\n",
       "...                                                  ...       ...\n",
       "15074   to the woman at west hampstead thameslink who...   neutral\n",
       "15076   the new thameslink trains use regenerative br...   neutral\n",
       "15077   •overground: minor delays hackney wick to str...   neutral\n",
       "15078   a fault on a train earlier today at city tham...  negative\n",
       "15080   service alert - signal failure at wembley par...   neutral\n",
       "\n",
       "[11588 rows x 2 columns]"
      ]
     },
     "execution_count": 116,
     "metadata": {},
     "output_type": "execute_result"
    }
   ],
   "source": [
    "LogisticRegression_df = sentiment_data.copy()\n",
    "LogisticRegression_df['text'] = LogisticRegression_df['text'].apply(cleanText)\n",
    "LogisticRegression_df"
   ]
  },
  {
   "cell_type": "markdown",
   "id": "c0473ec9",
   "metadata": {},
   "source": [
    "## Vectorizer"
   ]
  },
  {
   "cell_type": "code",
   "execution_count": 117,
   "id": "9c25abfb",
   "metadata": {},
   "outputs": [],
   "source": [
    "vectorizer = CountVectorizer()\n",
    "vectorizer.fit(LogisticRegression_df['text'])\n",
    "\n",
    "X_train_LR = vectorizer.transform(LogisticRegression_df['text'])\n",
    "X_test_LR = vectorizer.transform(Test_df['text'])"
   ]
  },
  {
   "cell_type": "code",
   "execution_count": 118,
   "id": "4dc545c2",
   "metadata": {
    "scrolled": true
   },
   "outputs": [
    {
     "name": "stdout",
     "output_type": "stream",
     "text": [
      " the thameslink core between london st pancras and london blackfriars in rush hours onlybut the in cab rubbish rarely works \n",
      "   (0, 97)\t1\n",
      "  (0, 4084)\t1\n",
      "  (0, 4605)\t1\n",
      "  (0, 5739)\t1\n",
      "  (0, 5918)\t1\n",
      "  (0, 7061)\t1\n",
      "  (0, 7206)\t1\n",
      "  (0, 7231)\t1\n",
      "  (0, 7396)\t1\n",
      "  (0, 10275)\t1\n",
      "  (0, 11082)\t1\n",
      "  (0, 11441)\t1\n"
     ]
    }
   ],
   "source": [
    "print(LogisticRegression_df['text'][0], '\\n', X_train_LR[0])"
   ]
  },
  {
   "cell_type": "markdown",
   "id": "ff3c2c5f",
   "metadata": {},
   "source": [
    "## Log reg  Modelling with Balancing techniques"
   ]
  },
  {
   "cell_type": "code",
   "execution_count": 119,
   "id": "cf03ad6a",
   "metadata": {},
   "outputs": [],
   "source": [
    "# Function to apply balancing technique\n",
    "\n",
    "def Sampling(X_train_LR, y_train_LR, sampler):\n",
    "\n",
    "    #SMOTE\n",
    "    if sampler == 'SMOTE':\n",
    "        sampler = SMOTE(random_state=100)    \n",
    "    \n",
    "\n",
    "    #SMOTTEENN\n",
    "    if sampler == 'SMOTEENN' :\n",
    "        sampler = SMOTEENN(random_state=100)\n",
    "        \n",
    "    # SMOTETOMEK    \n",
    "    if sampler == 'SMOTETOMEK' :\n",
    "        sampler = SMOTETomek(random_state=100)\n",
    "\n",
    "    #ADASYN\n",
    "    if sampler == 'ADASYN':\n",
    "        sampler = ADASYN(random_state=100)\n",
    "        \n",
    "    #ROSE\n",
    "    if sampler == 'ROSE':\n",
    "        sampler = RandomOverSampler(random_state=100)\n",
    "        \n",
    "\n",
    "    X_resampled, y_resampled = sampler.fit_resample(X_train_LR, y_train_LR)\n",
    "    counter = Counter(y_resampled)\n",
    "    print(counter)\n",
    "    return X_resampled, y_resampled"
   ]
  },
  {
   "cell_type": "code",
   "execution_count": 120,
   "id": "cdfbf028",
   "metadata": {},
   "outputs": [],
   "source": [
    "# clean target values df\n",
    "y_train_LR = LogisticRegression_df['sentiment']\n",
    "y_test_LR = Test_df['sentiment']"
   ]
  },
  {
   "cell_type": "code",
   "execution_count": 121,
   "id": "c0b425e3",
   "metadata": {},
   "outputs": [
    {
     "name": "stdout",
     "output_type": "stream",
     "text": [
      "Counter({'neutral': 7210, 'negative': 7210, 'positive': 7210})\n"
     ]
    }
   ],
   "source": [
    "#SMOTE\n",
    "X_smote_LR, y_smote_LR = Sampling(X_train_LR, y_train_LR,'SMOTE')"
   ]
  },
  {
   "cell_type": "code",
   "execution_count": 122,
   "id": "7eebd807",
   "metadata": {},
   "outputs": [
    {
     "name": "stdout",
     "output_type": "stream",
     "text": [
      "Accuracy: 0.6917027133307118\n"
     ]
    }
   ],
   "source": [
    "#SMOTE MODELLING\n",
    "classifier = LogisticRegression(max_iter=1000)\n",
    "classifier.fit(X_smote_LR, y_smote_LR)\n",
    "\n",
    "score = classifier.score(X_test_LR, y_test_LR)\n",
    "\n",
    "print(\"Accuracy:\", score)"
   ]
  },
  {
   "cell_type": "code",
   "execution_count": 123,
   "id": "269e0457",
   "metadata": {},
   "outputs": [
    {
     "name": "stdout",
     "output_type": "stream",
     "text": [
      "Counter({'neutral': 7481, 'negative': 7210, 'positive': 7178})\n"
     ]
    }
   ],
   "source": [
    "#ADASYN\n",
    "X_adasyn_LR, y_adasyn_LR = Sampling(X_train_LR, y_train_LR,'ADASYN')"
   ]
  },
  {
   "cell_type": "code",
   "execution_count": 124,
   "id": "24040846",
   "metadata": {},
   "outputs": [
    {
     "name": "stdout",
     "output_type": "stream",
     "text": [
      "Accuracy: 0.6893432953204877\n"
     ]
    }
   ],
   "source": [
    "#ADASYN MODELLING\n",
    "classifier = LogisticRegression(max_iter=1000)\n",
    "classifier.fit(X_adasyn_LR, y_adasyn_LR)\n",
    "\n",
    "score = classifier.score(X_test_LR, y_test_LR)\n",
    "\n",
    "print(\"Accuracy:\", score)"
   ]
  },
  {
   "cell_type": "code",
   "execution_count": 125,
   "id": "72e2a7e6",
   "metadata": {},
   "outputs": [
    {
     "name": "stdout",
     "output_type": "stream",
     "text": [
      "Counter({'positive': 7067, 'neutral': 3959, 'negative': 249})\n"
     ]
    }
   ],
   "source": [
    "#SMOTEENN\n",
    "X_smoteenn_LR, y_smoteeen_LR = Sampling(X_train_LR, y_train_LR,'SMOTEENN')"
   ]
  },
  {
   "cell_type": "code",
   "execution_count": 126,
   "id": "56e09cb0",
   "metadata": {},
   "outputs": [
    {
     "name": "stdout",
     "output_type": "stream",
     "text": [
      "Accuracy: 0.35705859221392056\n"
     ]
    }
   ],
   "source": [
    "#SMOTEENN MODELLING\n",
    "classifier = LogisticRegression(max_iter=1000)\n",
    "classifier.fit(X_smoteenn_LR, y_smoteeen_LR)\n",
    "\n",
    "score = classifier.score(X_test_LR, y_test_LR)\n",
    "\n",
    "print(\"Accuracy:\", score)"
   ]
  },
  {
   "cell_type": "code",
   "execution_count": 127,
   "id": "132f3da1",
   "metadata": {},
   "outputs": [
    {
     "name": "stdout",
     "output_type": "stream",
     "text": [
      "Counter({'positive': 7210, 'neutral': 7151, 'negative': 7151})\n"
     ]
    }
   ],
   "source": [
    "#SMOTETOMEK\n",
    "X_smotetomek_LR, y_smotetomek_LR = Sampling(X_train_LR, y_train_LR,'SMOTETOMEK')"
   ]
  },
  {
   "cell_type": "code",
   "execution_count": 128,
   "id": "41d9983d",
   "metadata": {},
   "outputs": [
    {
     "name": "stdout",
     "output_type": "stream",
     "text": [
      "Accuracy: 0.6920959496657492\n"
     ]
    }
   ],
   "source": [
    "#SMOTETOMEK MODELLING\n",
    "classifier = LogisticRegression(max_iter=1000)\n",
    "classifier.fit(X_smotetomek_LR, y_smotetomek_LR)\n",
    "\n",
    "score = classifier.score(X_test_LR, y_test_LR)\n",
    "\n",
    "print(\"Accuracy:\", score)"
   ]
  },
  {
   "cell_type": "code",
   "execution_count": 129,
   "id": "50867099",
   "metadata": {},
   "outputs": [
    {
     "name": "stdout",
     "output_type": "stream",
     "text": [
      "Counter({'neutral': 7210, 'negative': 7210, 'positive': 7210})\n"
     ]
    }
   ],
   "source": [
    "#ROSE\n",
    "X_rose_LR, y_rose_LR = Sampling(X_train_LR, y_train_LR,'ROSE')"
   ]
  },
  {
   "cell_type": "code",
   "execution_count": 130,
   "id": "e3eab0f3",
   "metadata": {},
   "outputs": [
    {
     "name": "stdout",
     "output_type": "stream",
     "text": [
      "Accuracy: 0.6948486040110106\n"
     ]
    }
   ],
   "source": [
    "#ROSE MODELLING\n",
    "classifier = LogisticRegression(max_iter=1000)\n",
    "classifier.fit(X_rose_LR, y_rose_LR)\n",
    "\n",
    "score = classifier.score(X_test_LR, y_test_LR)\n",
    "\n",
    "print(\"Accuracy:\", score)"
   ]
  },
  {
   "cell_type": "markdown",
   "id": "c2c63e33",
   "metadata": {},
   "source": [
    "## Modelling & Evaluating"
   ]
  },
  {
   "cell_type": "code",
   "execution_count": 131,
   "id": "4fc44556",
   "metadata": {},
   "outputs": [
    {
     "name": "stdout",
     "output_type": "stream",
     "text": [
      "Accuracy: 0.7101848210774676\n"
     ]
    }
   ],
   "source": [
    "classifier = LogisticRegression(max_iter=1000)\n",
    "classifier.fit(X_train_LR, LogisticRegression_df['sentiment'])\n",
    "\n",
    "score = classifier.score(X_test_LR, Test_df['sentiment'])\n",
    "\n",
    "print(\"Accuracy:\", score)"
   ]
  },
  {
   "cell_type": "code",
   "execution_count": 106,
   "id": "d1450786",
   "metadata": {},
   "outputs": [
    {
     "data": {
      "text/html": [
       "<div>\n",
       "<style scoped>\n",
       "    .dataframe tbody tr th:only-of-type {\n",
       "        vertical-align: middle;\n",
       "    }\n",
       "\n",
       "    .dataframe tbody tr th {\n",
       "        vertical-align: top;\n",
       "    }\n",
       "\n",
       "    .dataframe thead th {\n",
       "        text-align: right;\n",
       "    }\n",
       "</style>\n",
       "<table border=\"1\" class=\"dataframe\">\n",
       "  <thead>\n",
       "    <tr style=\"text-align: right;\">\n",
       "      <th></th>\n",
       "      <th>negative</th>\n",
       "      <th>neutral</th>\n",
       "      <th>positive</th>\n",
       "    </tr>\n",
       "  </thead>\n",
       "  <tbody>\n",
       "    <tr>\n",
       "      <th>negative</th>\n",
       "      <td>1288</td>\n",
       "      <td>307</td>\n",
       "      <td>0</td>\n",
       "    </tr>\n",
       "    <tr>\n",
       "      <th>neutral</th>\n",
       "      <td>397</td>\n",
       "      <td>513</td>\n",
       "      <td>2</td>\n",
       "    </tr>\n",
       "    <tr>\n",
       "      <th>positive</th>\n",
       "      <td>13</td>\n",
       "      <td>13</td>\n",
       "      <td>10</td>\n",
       "    </tr>\n",
       "  </tbody>\n",
       "</table>\n",
       "</div>"
      ],
      "text/plain": [
       "          negative  neutral  positive\n",
       "negative      1288      307         0\n",
       "neutral        397      513         2\n",
       "positive        13       13        10"
      ]
     },
     "execution_count": 106,
     "metadata": {},
     "output_type": "execute_result"
    }
   ],
   "source": [
    "y_pred = classifier.predict(X_test_LR)\n",
    "confusionMatrix = confusion_matrix(Test_df['sentiment'], y_pred, labels=data.sentiment.unique())\n",
    "confusionMatrix_df = pd.DataFrame(confusionMatrix, index=data.sentiment.unique(), columns=data.sentiment.unique())\n",
    "confusionMatrix_df"
   ]
  },
  {
   "cell_type": "code",
   "execution_count": 107,
   "id": "58548f28",
   "metadata": {},
   "outputs": [
    {
     "data": {
      "text/html": [
       "<div>\n",
       "<style scoped>\n",
       "    .dataframe tbody tr th:only-of-type {\n",
       "        vertical-align: middle;\n",
       "    }\n",
       "\n",
       "    .dataframe tbody tr th {\n",
       "        vertical-align: top;\n",
       "    }\n",
       "\n",
       "    .dataframe thead th {\n",
       "        text-align: right;\n",
       "    }\n",
       "</style>\n",
       "<table border=\"1\" class=\"dataframe\">\n",
       "  <thead>\n",
       "    <tr style=\"text-align: right;\">\n",
       "      <th></th>\n",
       "      <th>negative</th>\n",
       "      <th>neutral</th>\n",
       "      <th>positive</th>\n",
       "    </tr>\n",
       "  </thead>\n",
       "  <tbody>\n",
       "    <tr>\n",
       "      <th>negative</th>\n",
       "      <td>0.758539</td>\n",
       "      <td>0.368547</td>\n",
       "      <td>0.000000</td>\n",
       "    </tr>\n",
       "    <tr>\n",
       "      <th>neutral</th>\n",
       "      <td>0.233804</td>\n",
       "      <td>0.615846</td>\n",
       "      <td>0.166667</td>\n",
       "    </tr>\n",
       "    <tr>\n",
       "      <th>positive</th>\n",
       "      <td>0.007656</td>\n",
       "      <td>0.015606</td>\n",
       "      <td>0.833333</td>\n",
       "    </tr>\n",
       "  </tbody>\n",
       "</table>\n",
       "</div>"
      ],
      "text/plain": [
       "          negative   neutral  positive\n",
       "negative  0.758539  0.368547  0.000000\n",
       "neutral   0.233804  0.615846  0.166667\n",
       "positive  0.007656  0.015606  0.833333"
      ]
     },
     "execution_count": 107,
     "metadata": {},
     "output_type": "execute_result"
    }
   ],
   "source": [
    "confusionMatrix_percenteage_df = confusionMatrix_df.copy()\n",
    "for i in confusionMatrix_percenteage_df:\n",
    "  confusionMatrix_percenteage_df[i]/=confusionMatrix_percenteage_df[i].sum()\n",
    "\n",
    "confusionMatrix_percenteage_df"
   ]
  },
  {
   "cell_type": "markdown",
   "id": "12fefede",
   "metadata": {},
   "source": [
    "## Simple Test"
   ]
  },
  {
   "cell_type": "code",
   "execution_count": 108,
   "id": "f741f357",
   "metadata": {},
   "outputs": [
    {
     "name": "stdout",
     "output_type": "stream",
     "text": [
      "Tweet is neutral\n"
     ]
    }
   ],
   "source": [
    "tweet = \"\"\"@noggy_sue Hi Susan. I'm glad the driver reopened the doors to allow you to board. @TLRailUK and@Se_Railway operate services through Catford, they can now see this tweet and will be able to get this passed on to the relevant operator. Best wishes, Tom.\"\"\"\n",
    "vectTweet = vectorizer.transform(np.array([tweet]))  # vectorizes the tweet using our vectorizer\n",
    "\n",
    "prediction = classifier.predict(vectTweet)  # predicts class of the tweet\n",
    "if prediction[0]=='positive':\n",
    "    print('Tweet is positive')\n",
    "elif prediction[0]=='neutral':\n",
    "    print('Tweet is neutral')\n",
    "else: print('Tweet is negative')"
   ]
  },
  {
   "cell_type": "markdown",
   "id": "a5c2c49e",
   "metadata": {},
   "source": [
    "# SENTIMENT ANALYSIS WITH NEURAL NETWORK"
   ]
  },
  {
   "cell_type": "code",
   "execution_count": 53,
   "id": "06c15bee",
   "metadata": {},
   "outputs": [],
   "source": [
    "from keras.preprocessing.text import Tokenizer\n",
    "from keras_preprocessing.sequence import pad_sequences\n",
    "from keras.utils import np_utils\n",
    "from keras.models import Sequential\n",
    "from keras import layers\n",
    "from keras.wrappers.scikit_learn import KerasClassifier"
   ]
  },
  {
   "cell_type": "code",
   "execution_count": 109,
   "id": "7abb5258",
   "metadata": {},
   "outputs": [
    {
     "data": {
      "text/html": [
       "<div>\n",
       "<style scoped>\n",
       "    .dataframe tbody tr th:only-of-type {\n",
       "        vertical-align: middle;\n",
       "    }\n",
       "\n",
       "    .dataframe tbody tr th {\n",
       "        vertical-align: top;\n",
       "    }\n",
       "\n",
       "    .dataframe thead th {\n",
       "        text-align: right;\n",
       "    }\n",
       "</style>\n",
       "<table border=\"1\" class=\"dataframe\">\n",
       "  <thead>\n",
       "    <tr style=\"text-align: right;\">\n",
       "      <th></th>\n",
       "      <th>text</th>\n",
       "      <th>sentiment</th>\n",
       "    </tr>\n",
       "  </thead>\n",
       "  <tbody>\n",
       "    <tr>\n",
       "      <th>5025</th>\n",
       "      <td>[usual, delay, totalling, minute, mean, dont, ...</td>\n",
       "      <td>negative</td>\n",
       "    </tr>\n",
       "    <tr>\n",
       "      <th>3797</th>\n",
       "      <td>[day, train, delayed, day]</td>\n",
       "      <td>negative</td>\n",
       "    </tr>\n",
       "    <tr>\n",
       "      <th>10857</th>\n",
       "      <td>[scheme, franchise, didnt, meet, punctuality, ...</td>\n",
       "      <td>negative</td>\n",
       "    </tr>\n",
       "    <tr>\n",
       "      <th>4520</th>\n",
       "      <td>[farringdon, elstree, delayed, enroute, statio...</td>\n",
       "      <td>negative</td>\n",
       "    </tr>\n",
       "    <tr>\n",
       "      <th>16359</th>\n",
       "      <td>[bbc, news, fined, 1m, gatwick, express, windo...</td>\n",
       "      <td>negative</td>\n",
       "    </tr>\n",
       "    <tr>\n",
       "      <th>...</th>\n",
       "      <td>...</td>\n",
       "      <td>...</td>\n",
       "    </tr>\n",
       "    <tr>\n",
       "      <th>4399</th>\n",
       "      <td>[service, ravensbourne, london, people, carria...</td>\n",
       "      <td>negative</td>\n",
       "    </tr>\n",
       "    <tr>\n",
       "      <th>14587</th>\n",
       "      <td>[passenger, taken, ill, train, royston, cambri...</td>\n",
       "      <td>negative</td>\n",
       "    </tr>\n",
       "    <tr>\n",
       "      <th>12915</th>\n",
       "      <td>[week, massive, delay, cancellation, damage, o...</td>\n",
       "      <td>negative</td>\n",
       "    </tr>\n",
       "    <tr>\n",
       "      <th>16408</th>\n",
       "      <td>[definitely, havent, missed, stress, internati...</td>\n",
       "      <td>negative</td>\n",
       "    </tr>\n",
       "    <tr>\n",
       "      <th>14351</th>\n",
       "      <td>[drop, station, stop, flitwick, commuter, wait...</td>\n",
       "      <td>negative</td>\n",
       "    </tr>\n",
       "  </tbody>\n",
       "</table>\n",
       "<p>2543 rows × 2 columns</p>\n",
       "</div>"
      ],
      "text/plain": [
       "                                                    text sentiment\n",
       "5025   [usual, delay, totalling, minute, mean, dont, ...  negative\n",
       "3797                          [day, train, delayed, day]  negative\n",
       "10857  [scheme, franchise, didnt, meet, punctuality, ...  negative\n",
       "4520   [farringdon, elstree, delayed, enroute, statio...  negative\n",
       "16359  [bbc, news, fined, 1m, gatwick, express, windo...  negative\n",
       "...                                                  ...       ...\n",
       "4399   [service, ravensbourne, london, people, carria...  negative\n",
       "14587  [passenger, taken, ill, train, royston, cambri...  negative\n",
       "12915  [week, massive, delay, cancellation, damage, o...  negative\n",
       "16408  [definitely, havent, missed, stress, internati...  negative\n",
       "14351  [drop, station, stop, flitwick, commuter, wait...  negative\n",
       "\n",
       "[2543 rows x 2 columns]"
      ]
     },
     "execution_count": 109,
     "metadata": {},
     "output_type": "execute_result"
    }
   ],
   "source": [
    "Test_df = pd.DataFrame(X_test)\n",
    "Test_df['sentiment'] = y_test\n",
    "Test_df = cleanData(Test_df)\n",
    "Test_df"
   ]
  },
  {
   "cell_type": "code",
   "execution_count": 110,
   "id": "2d0939ff",
   "metadata": {},
   "outputs": [
    {
     "data": {
      "text/plain": [
       "5025     [usual, delay, totalling, minute, mean, dont, ...\n",
       "3797                            [day, train, delayed, day]\n",
       "10857    [scheme, franchise, didnt, meet, punctuality, ...\n",
       "4520     [farringdon, elstree, delayed, enroute, statio...\n",
       "16359    [bbc, news, fined, 1m, gatwick, express, windo...\n",
       "                               ...                        \n",
       "4399     [service, ravensbourne, london, people, carria...\n",
       "14587    [passenger, taken, ill, train, royston, cambri...\n",
       "12915    [week, massive, delay, cancellation, damage, o...\n",
       "16408    [definitely, havent, missed, stress, internati...\n",
       "14351    [drop, station, stop, flitwick, commuter, wait...\n",
       "Name: text, Length: 2543, dtype: object"
      ]
     },
     "execution_count": 110,
     "metadata": {},
     "output_type": "execute_result"
    }
   ],
   "source": [
    "X_test_NN = Test_df['text'].copy()\n",
    "X_test_NN"
   ]
  },
  {
   "cell_type": "code",
   "execution_count": 111,
   "id": "66642c76",
   "metadata": {},
   "outputs": [
    {
     "data": {
      "text/html": [
       "<div>\n",
       "<style scoped>\n",
       "    .dataframe tbody tr th:only-of-type {\n",
       "        vertical-align: middle;\n",
       "    }\n",
       "\n",
       "    .dataframe tbody tr th {\n",
       "        vertical-align: top;\n",
       "    }\n",
       "\n",
       "    .dataframe thead th {\n",
       "        text-align: right;\n",
       "    }\n",
       "</style>\n",
       "<table border=\"1\" class=\"dataframe\">\n",
       "  <thead>\n",
       "    <tr style=\"text-align: right;\">\n",
       "      <th></th>\n",
       "      <th>text</th>\n",
       "      <th>sentiment</th>\n",
       "    </tr>\n",
       "  </thead>\n",
       "  <tbody>\n",
       "    <tr>\n",
       "      <th>15196</th>\n",
       "      <td>[fined, 1m, passenger, killed, leaning, window]</td>\n",
       "      <td>neutral</td>\n",
       "    </tr>\n",
       "    <tr>\n",
       "      <th>25</th>\n",
       "      <td>[congestion, reason, delay, symptom, caused, d...</td>\n",
       "      <td>negative</td>\n",
       "    </tr>\n",
       "    <tr>\n",
       "      <th>26</th>\n",
       "      <td>[railway, facing, 5m, fine, chaos, caused, int...</td>\n",
       "      <td>negative</td>\n",
       "    </tr>\n",
       "    <tr>\n",
       "      <th>28</th>\n",
       "      <td>[apology, passenger, appear, having, issue, do...</td>\n",
       "      <td>negative</td>\n",
       "    </tr>\n",
       "    <tr>\n",
       "      <th>29</th>\n",
       "      <td>[train, passing, platform, use, london, underg...</td>\n",
       "      <td>negative</td>\n",
       "    </tr>\n",
       "    <tr>\n",
       "      <th>...</th>\n",
       "      <td>...</td>\n",
       "      <td>...</td>\n",
       "    </tr>\n",
       "    <tr>\n",
       "      <th>15074</th>\n",
       "      <td>[woman, west, hampstead, told, man, wait, peop...</td>\n",
       "      <td>neutral</td>\n",
       "    </tr>\n",
       "    <tr>\n",
       "      <th>15076</th>\n",
       "      <td>[new, train, use, regenerative, braking, gener...</td>\n",
       "      <td>neutral</td>\n",
       "    </tr>\n",
       "    <tr>\n",
       "      <th>15077</th>\n",
       "      <td>[overground, minor, delay, hackney, wick, stra...</td>\n",
       "      <td>neutral</td>\n",
       "    </tr>\n",
       "    <tr>\n",
       "      <th>15078</th>\n",
       "      <td>[fault, train, earlier, today, city, caused, d...</td>\n",
       "      <td>negative</td>\n",
       "    </tr>\n",
       "    <tr>\n",
       "      <th>15080</th>\n",
       "      <td>[service, alert, signal, failure, wembley, par...</td>\n",
       "      <td>neutral</td>\n",
       "    </tr>\n",
       "  </tbody>\n",
       "</table>\n",
       "<p>11588 rows × 2 columns</p>\n",
       "</div>"
      ],
      "text/plain": [
       "                                                    text sentiment\n",
       "15196    [fined, 1m, passenger, killed, leaning, window]   neutral\n",
       "25     [congestion, reason, delay, symptom, caused, d...  negative\n",
       "26     [railway, facing, 5m, fine, chaos, caused, int...  negative\n",
       "28     [apology, passenger, appear, having, issue, do...  negative\n",
       "29     [train, passing, platform, use, london, underg...  negative\n",
       "...                                                  ...       ...\n",
       "15074  [woman, west, hampstead, told, man, wait, peop...   neutral\n",
       "15076  [new, train, use, regenerative, braking, gener...   neutral\n",
       "15077  [overground, minor, delay, hackney, wick, stra...   neutral\n",
       "15078  [fault, train, earlier, today, city, caused, d...  negative\n",
       "15080  [service, alert, signal, failure, wembley, par...   neutral\n",
       "\n",
       "[11588 rows x 2 columns]"
      ]
     },
     "execution_count": 111,
     "metadata": {},
     "output_type": "execute_result"
    }
   ],
   "source": [
    "NeuralNetwork_df = sentiment_data.copy()\n",
    "NeuralNetwork_df = cleanData(NeuralNetwork_df)\n",
    "NeuralNetwork_df"
   ]
  },
  {
   "cell_type": "code",
   "execution_count": 112,
   "id": "aed7654b",
   "metadata": {},
   "outputs": [],
   "source": [
    "X_train_NN = NeuralNetwork_df['text'].copy()\n",
    "y_train_NN = NeuralNetwork_df['sentiment'].copy()"
   ]
  },
  {
   "cell_type": "markdown",
   "id": "cedf2f95",
   "metadata": {},
   "source": [
    "## Vectorization"
   ]
  },
  {
   "cell_type": "code",
   "execution_count": 113,
   "id": "0403e0fe",
   "metadata": {},
   "outputs": [],
   "source": [
    "tokenizer = Tokenizer()\n",
    "tokenizer.fit_on_texts(X_train_NN)\n",
    "\n",
    "x_train = tokenizer.texts_to_sequences(X_train_NN)\n",
    "x_test = tokenizer.texts_to_sequences(X_test_NN)\n",
    "\n",
    "vocab_size = len(tokenizer.word_index) + 1  # Adding 1 because of reserved 0 index"
   ]
  },
  {
   "cell_type": "code",
   "execution_count": 114,
   "id": "dc1fc660",
   "metadata": {},
   "outputs": [
    {
     "name": "stdout",
     "output_type": "stream",
     "text": [
      "['core', 'london', 'st', 'pancras', 'london', 'blackfriar', 'rush', 'hour', 'onlybut', 'cab', 'rubbish', 'rarely', 'work']\n",
      "[150, 171, 35, 764, 1042, 76]\n"
     ]
    }
   ],
   "source": [
    "print(X_train_NN[0])\n",
    "print(x_train[0])"
   ]
  },
  {
   "cell_type": "markdown",
   "id": "226e993c",
   "metadata": {},
   "source": [
    "## Padding"
   ]
  },
  {
   "cell_type": "code",
   "execution_count": 115,
   "id": "c9d33a0c",
   "metadata": {},
   "outputs": [
    {
     "name": "stdout",
     "output_type": "stream",
     "text": [
      "Max len: 52\n"
     ]
    }
   ],
   "source": [
    "# find the maximum length of the longest sentence in dataframe\n",
    "\n",
    "lens_train = [len(i) for i in x_train]\n",
    "lens_test = [len(i) for i in x_test]\n",
    "lens = lens_train + lens_test\n",
    "\n",
    "maxlen = np.max(lens)\n",
    "\n",
    "print('Max len:', maxlen)"
   ]
  },
  {
   "cell_type": "code",
   "execution_count": 116,
   "id": "552d2586",
   "metadata": {},
   "outputs": [],
   "source": [
    "x_train = pad_sequences(x_train, padding='post', maxlen=maxlen)\n",
    "x_test = pad_sequences(x_test, padding='post', maxlen=maxlen)"
   ]
  },
  {
   "cell_type": "markdown",
   "id": "fd1e4242",
   "metadata": {},
   "source": [
    "## Label Encoding"
   ]
  },
  {
   "cell_type": "code",
   "execution_count": 117,
   "id": "f4a30cc1",
   "metadata": {},
   "outputs": [],
   "source": [
    "encoder = LabelEncoder()\n",
    "encoder.fit(y)\n",
    "encoded_Y_test = encoder.transform(y_test)\n",
    "encoded_Y_train = encoder.transform(y_train_NN)\n",
    "\n",
    "# convert integers to dummy variables (i.e. one hot encoded)\n",
    "dummy_y_test = np_utils.to_categorical(encoded_Y_test)\n",
    "dummy_y_train = np_utils.to_categorical(encoded_Y_train)"
   ]
  },
  {
   "cell_type": "markdown",
   "id": "19f414fe",
   "metadata": {},
   "source": [
    "## Modelling"
   ]
  },
  {
   "cell_type": "code",
   "execution_count": 118,
   "id": "8d48dc2e",
   "metadata": {},
   "outputs": [
    {
     "name": "stdout",
     "output_type": "stream",
     "text": [
      "Model: \"sequential_2\"\n",
      "_________________________________________________________________\n",
      " Layer (type)                Output Shape              Param #   \n",
      "=================================================================\n",
      " embedding_2 (Embedding)     (None, 52, 100)           1130100   \n",
      "                                                                 \n",
      " dropout_8 (Dropout)         (None, 52, 100)           0         \n",
      "                                                                 \n",
      " global_max_pooling1d_2 (Glo  (None, 100)              0         \n",
      " balMaxPooling1D)                                                \n",
      "                                                                 \n",
      " dropout_9 (Dropout)         (None, 100)               0         \n",
      "                                                                 \n",
      " dense_6 (Dense)             (None, 50)                5050      \n",
      "                                                                 \n",
      " dropout_10 (Dropout)        (None, 50)                0         \n",
      "                                                                 \n",
      " dense_7 (Dense)             (None, 50)                2550      \n",
      "                                                                 \n",
      " dropout_11 (Dropout)        (None, 50)                0         \n",
      "                                                                 \n",
      " dense_8 (Dense)             (None, 3)                 153       \n",
      "                                                                 \n",
      "=================================================================\n",
      "Total params: 1,137,853\n",
      "Trainable params: 1,137,853\n",
      "Non-trainable params: 0\n",
      "_________________________________________________________________\n"
     ]
    }
   ],
   "source": [
    "embedding_dim = 100  # vector representation of words/neuron amount after the input https://datascience.stackexchange.com/questions/53995/what-does-embedding-mean-in-machine-learning#:~:text=In%20the%20context%20of%20machine,with%20other%20models%20as%20well.\n",
    "\n",
    "model = Sequential()  # initiates the model\n",
    "model.add(layers.Embedding(input_dim=vocab_size,  # adds the first [input] layer which will be our tokenized tweets\n",
    "                          output_dim=embedding_dim,  # the embedding of that tweet, essentially inputs output\n",
    "                          input_length=maxlen))  # size of the input layer determined by maxlen calculated before\n",
    "model.add(layers.Dropout(0.3))  # dorpouts are added to help with overtraining, essentially \"turns off\" said amount of neurons before giving information to the next layer\n",
    "model.add(layers.GlobalMaxPool1D())  # https://computersciencewiki.org/index.php/Max-pooling_/_Pooling\n",
    "model.add(layers.Dropout(0.3))\n",
    "model.add(layers.Dense(50, activation='relu'))  # additional hidden layer\n",
    "model.add(layers.Dropout(0.3))\n",
    "model.add(layers.Dense(50, activation='relu'))\n",
    "model.add(layers.Dropout(0.3))\n",
    "model.add(layers.Dense(3, activation='softmax'))  # prediction layer, 2 is the number of classes we have\n",
    "model.compile(optimizer='adam',\n",
    "              loss='categorical_crossentropy',\n",
    "              metrics=['accuracy'])\n",
    "model.summary()"
   ]
  },
  {
   "cell_type": "code",
   "execution_count": 119,
   "id": "30d0ac72",
   "metadata": {},
   "outputs": [
    {
     "name": "stdout",
     "output_type": "stream",
     "text": [
      "Epoch 1/30\n",
      "91/91 [==============================] - 4s 35ms/step - loss: 0.8249 - accuracy: 0.5875 - val_loss: 0.7186 - val_accuracy: 0.6272\n",
      "Epoch 2/30\n",
      "91/91 [==============================] - 3s 37ms/step - loss: 0.7121 - accuracy: 0.6285 - val_loss: 0.6726 - val_accuracy: 0.6543\n",
      "Epoch 3/30\n",
      "91/91 [==============================] - 3s 35ms/step - loss: 0.6487 - accuracy: 0.6807 - val_loss: 0.6324 - val_accuracy: 0.6945\n",
      "Epoch 4/30\n",
      "91/91 [==============================] - 3s 35ms/step - loss: 0.5960 - accuracy: 0.7260 - val_loss: 0.6132 - val_accuracy: 0.6976\n",
      "Epoch 5/30\n",
      "91/91 [==============================] - 3s 30ms/step - loss: 0.5446 - accuracy: 0.7591 - val_loss: 0.6033 - val_accuracy: 0.7090\n",
      "Epoch 6/30\n",
      "91/91 [==============================] - 3s 32ms/step - loss: 0.5004 - accuracy: 0.7820 - val_loss: 0.5997 - val_accuracy: 0.7090\n",
      "Epoch 7/30\n",
      "91/91 [==============================] - 7s 72ms/step - loss: 0.4671 - accuracy: 0.8026 - val_loss: 0.6026 - val_accuracy: 0.7063\n",
      "Epoch 8/30\n",
      "91/91 [==============================] - 6s 71ms/step - loss: 0.4344 - accuracy: 0.8166 - val_loss: 0.6109 - val_accuracy: 0.7055\n",
      "Epoch 9/30\n",
      "91/91 [==============================] - 6s 66ms/step - loss: 0.4058 - accuracy: 0.8252 - val_loss: 0.6205 - val_accuracy: 0.7055\n",
      "Epoch 10/30\n",
      "91/91 [==============================] - 7s 76ms/step - loss: 0.3770 - accuracy: 0.8400 - val_loss: 0.6403 - val_accuracy: 0.7015\n",
      "Epoch 11/30\n",
      "91/91 [==============================] - 6s 62ms/step - loss: 0.3563 - accuracy: 0.8454 - val_loss: 0.6442 - val_accuracy: 0.6996\n",
      "Epoch 12/30\n",
      "91/91 [==============================] - 6s 66ms/step - loss: 0.3394 - accuracy: 0.8541 - val_loss: 0.6676 - val_accuracy: 0.6933\n",
      "Epoch 13/30\n",
      "91/91 [==============================] - 6s 63ms/step - loss: 0.3227 - accuracy: 0.8621 - val_loss: 0.6800 - val_accuracy: 0.7007\n",
      "Epoch 14/30\n",
      "91/91 [==============================] - 5s 59ms/step - loss: 0.3077 - accuracy: 0.8671 - val_loss: 0.6974 - val_accuracy: 0.6941\n",
      "Epoch 15/30\n",
      "91/91 [==============================] - 6s 63ms/step - loss: 0.2904 - accuracy: 0.8756 - val_loss: 0.7082 - val_accuracy: 0.7007\n",
      "Epoch 16/30\n",
      "91/91 [==============================] - 6s 64ms/step - loss: 0.2769 - accuracy: 0.8821 - val_loss: 0.7208 - val_accuracy: 0.6929\n",
      "Epoch 17/30\n",
      "91/91 [==============================] - 6s 69ms/step - loss: 0.2687 - accuracy: 0.8843 - val_loss: 0.7603 - val_accuracy: 0.6964\n",
      "Epoch 18/30\n",
      "91/91 [==============================] - 6s 67ms/step - loss: 0.2630 - accuracy: 0.8837 - val_loss: 0.7436 - val_accuracy: 0.6917\n",
      "Epoch 19/30\n",
      "91/91 [==============================] - 7s 72ms/step - loss: 0.2565 - accuracy: 0.8888 - val_loss: 0.7692 - val_accuracy: 0.6980\n",
      "Epoch 20/30\n",
      "91/91 [==============================] - 6s 66ms/step - loss: 0.2564 - accuracy: 0.8889 - val_loss: 0.7875 - val_accuracy: 0.6874\n",
      "Epoch 21/30\n",
      "91/91 [==============================] - 6s 66ms/step - loss: 0.2435 - accuracy: 0.8939 - val_loss: 0.8149 - val_accuracy: 0.6917\n",
      "Epoch 22/30\n",
      "91/91 [==============================] - 6s 65ms/step - loss: 0.2363 - accuracy: 0.8938 - val_loss: 0.8295 - val_accuracy: 0.6917\n",
      "Epoch 23/30\n",
      "91/91 [==============================] - 6s 65ms/step - loss: 0.2326 - accuracy: 0.8967 - val_loss: 0.8364 - val_accuracy: 0.6964\n",
      "Epoch 24/30\n",
      "91/91 [==============================] - 6s 62ms/step - loss: 0.2261 - accuracy: 0.9012 - val_loss: 0.8568 - val_accuracy: 0.6905\n",
      "Epoch 25/30\n",
      "91/91 [==============================] - 5s 58ms/step - loss: 0.2227 - accuracy: 0.8977 - val_loss: 0.8737 - val_accuracy: 0.6945\n",
      "Epoch 26/30\n",
      "91/91 [==============================] - 6s 61ms/step - loss: 0.2288 - accuracy: 0.8989 - val_loss: 0.8729 - val_accuracy: 0.6925\n",
      "Epoch 27/30\n",
      "91/91 [==============================] - 6s 64ms/step - loss: 0.2139 - accuracy: 0.9040 - val_loss: 0.9197 - val_accuracy: 0.6921\n",
      "Epoch 28/30\n",
      "91/91 [==============================] - 6s 66ms/step - loss: 0.2198 - accuracy: 0.9037 - val_loss: 0.9053 - val_accuracy: 0.6968\n",
      "Epoch 29/30\n",
      "91/91 [==============================] - 6s 64ms/step - loss: 0.2125 - accuracy: 0.9064 - val_loss: 0.9154 - val_accuracy: 0.6929\n",
      "Epoch 30/30\n",
      "91/91 [==============================] - 6s 68ms/step - loss: 0.2067 - accuracy: 0.9093 - val_loss: 0.9532 - val_accuracy: 0.6976\n",
      "Training Accuracy: 0.9492\n",
      "Testing Accuracy:  0.6976\n"
     ]
    }
   ],
   "source": [
    "history = model.fit(x_train, dummy_y_train,\n",
    "                    epochs=30,  # times model will run through the data\n",
    "                    verbose=True,\n",
    "                    validation_data=(x_test, dummy_y_test),\n",
    "                    batch_size=128)  # data is set to batches we are sent to the model to predict, imagine each batc as a step in which model tries to predict the class and then checks the right answer and corrects it's weights with backpropogation\n",
    "loss, accuracy = model.evaluate(x_train, dummy_y_train, verbose=False)\n",
    "print(\"Training Accuracy: {:.4f}\".format(accuracy))\n",
    "loss, accuracy = model.evaluate(x_test, dummy_y_test, verbose=False)\n",
    "print(\"Testing Accuracy:  {:.4f}\".format(accuracy))"
   ]
  },
  {
   "cell_type": "markdown",
   "id": "bf4ace70",
   "metadata": {},
   "source": [
    "## Evaluating Results"
   ]
  },
  {
   "cell_type": "code",
   "execution_count": 120,
   "id": "c96432ba",
   "metadata": {},
   "outputs": [],
   "source": [
    "plt.style.use('ggplot')\n",
    "\n",
    "def plot_history(history):\n",
    "    acc = history.history['accuracy']\n",
    "    val_acc = history.history['val_accuracy']\n",
    "    loss = history.history['loss']\n",
    "    val_loss = history.history['val_loss']\n",
    "    x = range(1, len(acc) + 1)\n",
    "\n",
    "    plt.figure(figsize=(12, 5))\n",
    "    plt.subplot(1, 2, 1)\n",
    "    plt.plot(x, acc, 'b', label='Training acc')\n",
    "    plt.plot(x, val_acc, 'r', label='Validation acc')\n",
    "    plt.title('Training and validation accuracy')\n",
    "    plt.legend()\n",
    "    plt.subplot(1, 2, 2)\n",
    "    plt.plot(x, loss, 'b', label='Training loss')\n",
    "    plt.plot(x, val_loss, 'r', label='Validation loss')\n",
    "    plt.title('Training and validation loss')\n",
    "    plt.legend()"
   ]
  },
  {
   "cell_type": "code",
   "execution_count": 121,
   "id": "dfe8d84e",
   "metadata": {},
   "outputs": [
    {
     "data": {
      "image/png": "[encoded data removed]",
      "text/plain": [
       "<Figure size 1200x500 with 2 Axes>"
      ]
     },
     "metadata": {},
     "output_type": "display_data"
    }
   ],
   "source": [
    "plot_history(history)"
   ]
  },
  {
   "cell_type": "code",
   "execution_count": null,
   "id": "82a035d0",
   "metadata": {},
   "outputs": [],
   "source": []
  },
  {
   "cell_type": "code",
   "execution_count": null,
   "id": "cddc0abc",
   "metadata": {},
   "outputs": [],
   "source": []
  }
 ],
 "metadata": {
  "kernelspec": {
   "display_name": "Python 3 (ipykernel)",
   "language": "python",
   "name": "python3"
  },
  "language_info": {
   "codemirror_mode": {
    "name": "ipython",
    "version": 3
   },
   "file_extension": ".py",
   "mimetype": "text/x-python",
   "name": "python",
   "nbconvert_exporter": "python",
   "pygments_lexer": "ipython3",
   "version": "3.9.7"
  },
  "vscode": {
   "interpreter": {
    "hash": "ad2bdc8ecc057115af97d19610ffacc2b4e99fae6737bb82f5d7fb13d2f2c186"
   }
  }
 },
 "nbformat": 4,
 "nbformat_minor": 5
}
