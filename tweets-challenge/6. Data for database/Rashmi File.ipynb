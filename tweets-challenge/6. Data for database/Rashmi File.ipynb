{
 "cells": [
  {
   "cell_type": "code",
   "execution_count": 35,
   "id": "58284254",
   "metadata": {},
   "outputs": [],
   "source": [
    "# Importing Packages\n",
    "import json\n",
    "import pandas as pd\n",
    "import matplotlib.pyplot as plt\n",
    "import seaborn as sns\n",
    "import plotly.graph_objs as go\n",
    "import plotly.tools as tls\n",
    "import plotly.express as px\n",
    "import plotly.offline as py\n",
    "import nltk\n",
    "from nltk.corpus import stopwords\n",
    "from wordcloud import WordCloud\n",
    "from collections import Counter\n",
    "import numpy as np"
   ]
  },
  {
   "cell_type": "code",
   "execution_count": 36,
   "id": "889ade97",
   "metadata": {},
   "outputs": [
    {
     "name": "stdout",
     "output_type": "stream",
     "text": [
      "Number of Tweets: 16949\n"
     ]
    }
   ],
   "source": [
    "# Importing the data\n",
    "tweet_json = open('tweets_ws22_v1.json')\n",
    "data = json.load(tweet_json)\n",
    "\n",
    "print(\"Number of Tweets:\" , len(data))"
   ]
  },
  {
   "cell_type": "code",
   "execution_count": 37,
   "id": "755a1bac",
   "metadata": {},
   "outputs": [
    {
     "name": "stdout",
     "output_type": "stream",
     "text": [
      "Tweet @DSisourath The Thameslink core between London St Pancras and London Blackfriars in rush hours onlybut the in cab rubbish rarely works\n",
      "Component: service\n",
      "Sentiment: negative\n"
     ]
    }
   ],
   "source": [
    "# exploring data\n",
    "tweetID = 0\n",
    "print(\"Tweet\", data[tweetID][\"text\"])\n",
    "print(\"Component:\", data[tweetID][\"labels\"][\"topic\"][0]['topic'])\n",
    "print(\"Sentiment:\", data[tweetID][\"labels\"][\"sentiment\"][0]['sentiment'])\n",
    "\n",
    "tweet_json.close()"
   ]
  },
  {
   "cell_type": "code",
   "execution_count": 38,
   "id": "1d327358",
   "metadata": {},
   "outputs": [],
   "source": [
    "#Converting json to pandas dataframe\n",
    "df = pd.DataFrame.from_dict(data)"
   ]
  },
  {
   "cell_type": "code",
   "execution_count": 39,
   "id": "0be0bc95",
   "metadata": {
    "scrolled": true
   },
   "outputs": [
    {
     "name": "stdout",
     "output_type": "stream",
     "text": [
      "<class 'pandas.core.frame.DataFrame'>\n",
      "RangeIndex: 16949 entries, 0 to 16948\n",
      "Data columns (total 10 columns):\n",
      " #   Column             Non-Null Count  Dtype  \n",
      "---  ------             --------------  -----  \n",
      " 0   source_created_at  16949 non-null  object \n",
      " 1   author_id          16949 non-null  object \n",
      " 2   text               16949 non-null  object \n",
      " 3   source             16949 non-null  object \n",
      " 4   language           16949 non-null  object \n",
      " 5   longitude          1425 non-null   float64\n",
      " 6   latitude           1425 non-null   float64\n",
      " 7   id                 16949 non-null  object \n",
      " 8   labels             16949 non-null  object \n",
      " 9   source_id          15548 non-null  object \n",
      "dtypes: float64(2), object(8)\n",
      "memory usage: 1.3+ MB\n"
     ]
    }
   ],
   "source": [
    "df.info()"
   ]
  },
  {
   "cell_type": "code",
   "execution_count": 40,
   "id": "0478757e",
   "metadata": {},
   "outputs": [
    {
     "data": {
      "text/plain": [
       "'@DSisourath The Thameslink core between London St Pancras and London Blackfriars in rush hours onlybut the in cab rubbish rarely works'"
      ]
     },
     "execution_count": 40,
     "metadata": {},
     "output_type": "execute_result"
    }
   ],
   "source": [
    "df[\"text\"][0]"
   ]
  },
  {
   "cell_type": "markdown",
   "id": "00aa80dd",
   "metadata": {},
   "source": [
    "# Creating a final datframe for nested dictionaries within columns\n"
   ]
  },
  {
   "cell_type": "code",
   "execution_count": 41,
   "id": "b992a0be",
   "metadata": {},
   "outputs": [
    {
     "name": "stdout",
     "output_type": "stream",
     "text": [
      "<class 'pandas.core.frame.DataFrame'>\n",
      "RangeIndex: 16949 entries, 0 to 16948\n",
      "Data columns (total 2 columns):\n",
      " #   Column     Non-Null Count  Dtype \n",
      "---  ------     --------------  ----- \n",
      " 0   topic      16949 non-null  object\n",
      " 1   sentiment  16949 non-null  object\n",
      "dtypes: object(2)\n",
      "memory usage: 265.0+ KB\n"
     ]
    }
   ],
   "source": [
    "label = df['labels'].apply(pd.Series)\n",
    "label.info()"
   ]
  },
  {
   "cell_type": "code",
   "execution_count": 42,
   "id": "e05ccdc8",
   "metadata": {},
   "outputs": [
    {
     "name": "stdout",
     "output_type": "stream",
     "text": [
      "<class 'pandas.core.frame.DataFrame'>\n",
      "RangeIndex: 16949 entries, 0 to 16948\n",
      "Data columns (total 1 columns):\n",
      " #   Column  Non-Null Count  Dtype \n",
      "---  ------  --------------  ----- \n",
      " 0   0       16949 non-null  object\n",
      "dtypes: object(1)\n",
      "memory usage: 132.5+ KB\n",
      "<class 'pandas.core.frame.DataFrame'>\n",
      "RangeIndex: 16949 entries, 0 to 16948\n",
      "Data columns (total 6 columns):\n",
      " #   Column        Non-Null Count  Dtype \n",
      "---  ------        --------------  ----- \n",
      " 0   tweet_id      16949 non-null  object\n",
      " 1   user_id       16949 non-null  object\n",
      " 2   relevant      16949 non-null  bool  \n",
      " 3   topic         16949 non-null  object\n",
      " 4   ground_truth  16949 non-null  bool  \n",
      " 5   id            16949 non-null  object\n",
      "dtypes: bool(2), object(4)\n",
      "memory usage: 562.9+ KB\n"
     ]
    }
   ],
   "source": [
    "topic = label['topic'].apply(pd.Series)\n",
    "topic.info()\n",
    "topics = topic[0].apply(pd.Series)\n",
    "topics.info()"
   ]
  },
  {
   "cell_type": "code",
   "execution_count": 43,
   "id": "d5091379",
   "metadata": {},
   "outputs": [
    {
     "name": "stdout",
     "output_type": "stream",
     "text": [
      "<class 'pandas.core.frame.DataFrame'>\n",
      "RangeIndex: 16949 entries, 0 to 16948\n",
      "Data columns (total 1 columns):\n",
      " #   Column  Non-Null Count  Dtype \n",
      "---  ------  --------------  ----- \n",
      " 0   0       16949 non-null  object\n",
      "dtypes: object(1)\n",
      "memory usage: 132.5+ KB\n",
      "<class 'pandas.core.frame.DataFrame'>\n",
      "RangeIndex: 16949 entries, 0 to 16948\n",
      "Data columns (total 5 columns):\n",
      " #   Column        Non-Null Count  Dtype \n",
      "---  ------        --------------  ----- \n",
      " 0   tweet_id      16949 non-null  object\n",
      " 1   user_id       16949 non-null  object\n",
      " 2   sentiment     16949 non-null  object\n",
      " 3   ground_truth  16949 non-null  bool  \n",
      " 4   id            16949 non-null  object\n",
      "dtypes: bool(1), object(4)\n",
      "memory usage: 546.3+ KB\n"
     ]
    }
   ],
   "source": [
    "sentiment = label['sentiment'].apply(pd.Series)\n",
    "sentiment.info()\n",
    "sentiments = sentiment[0].apply(pd.Series)\n",
    "sentiments.info()"
   ]
  },
  {
   "cell_type": "code",
   "execution_count": 44,
   "id": "999646b4",
   "metadata": {},
   "outputs": [
    {
     "name": "stdout",
     "output_type": "stream",
     "text": [
      "<class 'pandas.core.frame.DataFrame'>\n",
      "RangeIndex: 16949 entries, 0 to 16948\n",
      "Data columns (total 11 columns):\n",
      " #   Column        Non-Null Count  Dtype \n",
      "---  ------        --------------  ----- \n",
      " 0   tweet_id      16949 non-null  object\n",
      " 1   user_id       16949 non-null  object\n",
      " 2   relevant      16949 non-null  bool  \n",
      " 3   topic         16949 non-null  object\n",
      " 4   ground_truth  16949 non-null  bool  \n",
      " 5   id            16949 non-null  object\n",
      " 6   tweet_id      16949 non-null  object\n",
      " 7   user_id       16949 non-null  object\n",
      " 8   sentiment     16949 non-null  object\n",
      " 9   ground_truth  16949 non-null  bool  \n",
      " 10  id            16949 non-null  object\n",
      "dtypes: bool(3), object(8)\n",
      "memory usage: 1.1+ MB\n",
      "<class 'pandas.core.frame.DataFrame'>\n",
      "RangeIndex: 16949 entries, 0 to 16948\n",
      "Data columns (total 7 columns):\n",
      " #   Column        Non-Null Count  Dtype \n",
      "---  ------        --------------  ----- \n",
      " 0   tweet_id      16949 non-null  object\n",
      " 1   user_id       16949 non-null  object\n",
      " 2   relevant      16949 non-null  bool  \n",
      " 3   topic         16949 non-null  object\n",
      " 4   ground_truth  16949 non-null  bool  \n",
      " 5   id            16949 non-null  object\n",
      " 6   sentiment     16949 non-null  object\n",
      "dtypes: bool(2), object(5)\n",
      "memory usage: 695.3+ KB\n"
     ]
    }
   ],
   "source": [
    "label_data = pd.concat([topics, sentiments], axis=1)\n",
    "label_data.info()\n",
    "labels = label_data.loc[:,~label_data.columns.duplicated()]\n",
    "labels.info()"
   ]
  },
  {
   "cell_type": "code",
   "execution_count": 45,
   "id": "50ea797a",
   "metadata": {},
   "outputs": [
    {
     "name": "stdout",
     "output_type": "stream",
     "text": [
      "<class 'pandas.core.frame.DataFrame'>\n",
      "RangeIndex: 16949 entries, 0 to 16948\n",
      "Data columns (total 15 columns):\n",
      " #   Column             Non-Null Count  Dtype  \n",
      "---  ------             --------------  -----  \n",
      " 0   source_created_at  16949 non-null  object \n",
      " 1   author_id          16949 non-null  object \n",
      " 2   text               16949 non-null  object \n",
      " 3   source             16949 non-null  object \n",
      " 4   language           16949 non-null  object \n",
      " 5   longitude          1425 non-null   float64\n",
      " 6   latitude           1425 non-null   float64\n",
      " 7   id                 16949 non-null  object \n",
      " 8   source_id          15548 non-null  object \n",
      " 9   tweet_id           16949 non-null  object \n",
      " 10  user_id            16949 non-null  object \n",
      " 11  relevant           16949 non-null  bool   \n",
      " 12  topic              16949 non-null  object \n",
      " 13  ground_truth       16949 non-null  bool   \n",
      " 14  sentiment          16949 non-null  object \n",
      "dtypes: bool(2), float64(2), object(11)\n",
      "memory usage: 1.7+ MB\n"
     ]
    }
   ],
   "source": [
    "tweet_data = pd.concat([df, labels], axis=1)\n",
    "tweet1 = tweet_data.loc[:,~tweet_data.columns.duplicated()]\n",
    "tweet = tweet1.drop(columns=[\"labels\"])\n",
    "tweet.info()"
   ]
  },
  {
   "cell_type": "code",
   "execution_count": 46,
   "id": "ce91c1a5",
   "metadata": {},
   "outputs": [
    {
     "data": {
      "text/plain": [
       "(16949, 15)"
      ]
     },
     "execution_count": 46,
     "metadata": {},
     "output_type": "execute_result"
    }
   ],
   "source": [
    "tweet.shape"
   ]
  },
  {
   "cell_type": "code",
   "execution_count": 47,
   "id": "4e9f75d4",
   "metadata": {},
   "outputs": [
    {
     "data": {
      "text/html": [
       "<div>\n",
       "<style scoped>\n",
       "    .dataframe tbody tr th:only-of-type {\n",
       "        vertical-align: middle;\n",
       "    }\n",
       "\n",
       "    .dataframe tbody tr th {\n",
       "        vertical-align: top;\n",
       "    }\n",
       "\n",
       "    .dataframe thead th {\n",
       "        text-align: right;\n",
       "    }\n",
       "</style>\n",
       "<table border=\"1\" class=\"dataframe\">\n",
       "  <thead>\n",
       "    <tr style=\"text-align: right;\">\n",
       "      <th></th>\n",
       "      <th>source_created_at</th>\n",
       "      <th>author_id</th>\n",
       "      <th>text</th>\n",
       "      <th>source</th>\n",
       "      <th>language</th>\n",
       "      <th>longitude</th>\n",
       "      <th>latitude</th>\n",
       "      <th>id</th>\n",
       "      <th>source_id</th>\n",
       "      <th>tweet_id</th>\n",
       "      <th>user_id</th>\n",
       "      <th>relevant</th>\n",
       "      <th>topic</th>\n",
       "      <th>ground_truth</th>\n",
       "      <th>sentiment</th>\n",
       "    </tr>\n",
       "  </thead>\n",
       "  <tbody>\n",
       "    <tr>\n",
       "      <th>0</th>\n",
       "      <td>2020-09-18 21:56:20.798000</td>\n",
       "      <td>593731316</td>\n",
       "      <td>@DSisourath The Thameslink core between London...</td>\n",
       "      <td>sprinklr</td>\n",
       "      <td>en</td>\n",
       "      <td>-0.12574</td>\n",
       "      <td>51.50853</td>\n",
       "      <td>acd7673f-e621-5f1a-d662-df278964a6ea</td>\n",
       "      <td>NaN</td>\n",
       "      <td>acd7673f-e621-5f1a-d662-df278964a6ea</td>\n",
       "      <td>Z003XDCS</td>\n",
       "      <td>True</td>\n",
       "      <td>service</td>\n",
       "      <td>True</td>\n",
       "      <td>negative</td>\n",
       "    </tr>\n",
       "    <tr>\n",
       "      <th>1</th>\n",
       "      <td>2020-10-13 07:31:53.122000</td>\n",
       "      <td>745583289520496640</td>\n",
       "      <td>@DulwichHistory Loving the complaint about peo...</td>\n",
       "      <td>sprinklr</td>\n",
       "      <td>en</td>\n",
       "      <td>-0.12574</td>\n",
       "      <td>51.50853</td>\n",
       "      <td>5b92aba8-4b05-6c63-8485-e9c870742137</td>\n",
       "      <td>NaN</td>\n",
       "      <td>5b92aba8-4b05-6c63-8485-e9c870742137</td>\n",
       "      <td>Z003XDCS</td>\n",
       "      <td>True</td>\n",
       "      <td>delays</td>\n",
       "      <td>True</td>\n",
       "      <td>negative</td>\n",
       "    </tr>\n",
       "    <tr>\n",
       "      <th>2</th>\n",
       "      <td>2020-10-26 19:27:24.695000</td>\n",
       "      <td>303134761</td>\n",
       "      <td>@SW_Help .And yet you have no toilets on some ...</td>\n",
       "      <td>sprinklr</td>\n",
       "      <td>en</td>\n",
       "      <td>-0.12574</td>\n",
       "      <td>51.50853</td>\n",
       "      <td>0a799c07-8b76-17ba-b840-e538d51e832d</td>\n",
       "      <td>NaN</td>\n",
       "      <td>0a799c07-8b76-17ba-b840-e538d51e832d</td>\n",
       "      <td>Z003XDCS</td>\n",
       "      <td>True</td>\n",
       "      <td>toilets</td>\n",
       "      <td>True</td>\n",
       "      <td>negative</td>\n",
       "    </tr>\n",
       "    <tr>\n",
       "      <th>3</th>\n",
       "      <td>2020-10-26 19:28:49.281000</td>\n",
       "      <td>303134761</td>\n",
       "      <td>@SW_Help you have no toilets on some of your t...</td>\n",
       "      <td>sprinklr</td>\n",
       "      <td>en</td>\n",
       "      <td>-0.12574</td>\n",
       "      <td>51.50853</td>\n",
       "      <td>8b4d2a34-c4f0-0e19-4055-dfe4af5f0e14</td>\n",
       "      <td>NaN</td>\n",
       "      <td>8b4d2a34-c4f0-0e19-4055-dfe4af5f0e14</td>\n",
       "      <td>Z003XDCS</td>\n",
       "      <td>True</td>\n",
       "      <td>toilets</td>\n",
       "      <td>True</td>\n",
       "      <td>negative</td>\n",
       "    </tr>\n",
       "    <tr>\n",
       "      <th>4</th>\n",
       "      <td>2020-09-28 11:59:41.212000</td>\n",
       "      <td>56427671</td>\n",
       "      <td>@SpeedySticks007 @MrNeilJH @TLRailUK @christia...</td>\n",
       "      <td>sprinklr</td>\n",
       "      <td>en</td>\n",
       "      <td>-1.09125</td>\n",
       "      <td>50.79899</td>\n",
       "      <td>1fd08862-d8c7-0682-6b11-2603fba22d94</td>\n",
       "      <td>NaN</td>\n",
       "      <td>1fd08862-d8c7-0682-6b11-2603fba22d94</td>\n",
       "      <td>Z003XDCS</td>\n",
       "      <td>True</td>\n",
       "      <td>seats</td>\n",
       "      <td>True</td>\n",
       "      <td>neutral</td>\n",
       "    </tr>\n",
       "    <tr>\n",
       "      <th>...</th>\n",
       "      <td>...</td>\n",
       "      <td>...</td>\n",
       "      <td>...</td>\n",
       "      <td>...</td>\n",
       "      <td>...</td>\n",
       "      <td>...</td>\n",
       "      <td>...</td>\n",
       "      <td>...</td>\n",
       "      <td>...</td>\n",
       "      <td>...</td>\n",
       "      <td>...</td>\n",
       "      <td>...</td>\n",
       "      <td>...</td>\n",
       "      <td>...</td>\n",
       "      <td>...</td>\n",
       "    </tr>\n",
       "    <tr>\n",
       "      <th>16944</th>\n",
       "      <td>2019-07-11 07:34:35</td>\n",
       "      <td>24940900</td>\n",
       "      <td>Haha oh man the audio corruption on @TLRailUK ...</td>\n",
       "      <td>brandwatch</td>\n",
       "      <td>en-GB</td>\n",
       "      <td>NaN</td>\n",
       "      <td>NaN</td>\n",
       "      <td>b47948df-1732-7021-ee77-238f839a2ea0</td>\n",
       "      <td>1149220424313708544</td>\n",
       "      <td>b47948df-1732-7021-ee77-238f839a2ea0</td>\n",
       "      <td>Z003XDCS</td>\n",
       "      <td>True</td>\n",
       "      <td>announcements</td>\n",
       "      <td>True</td>\n",
       "      <td>neutral</td>\n",
       "    </tr>\n",
       "    <tr>\n",
       "      <th>16945</th>\n",
       "      <td>2020-08-10 11:19:10.181000</td>\n",
       "      <td>63559912</td>\n",
       "      <td>@TLRailUK SweetIs there a plug to charge my ph...</td>\n",
       "      <td>sprinklr</td>\n",
       "      <td>en</td>\n",
       "      <td>-0.12574</td>\n",
       "      <td>51.50853</td>\n",
       "      <td>bcb3a01a-e58c-e082-3111-10fa77d1a9f7</td>\n",
       "      <td>NaN</td>\n",
       "      <td>bcb3a01a-e58c-e082-3111-10fa77d1a9f7</td>\n",
       "      <td>Z003XDCS</td>\n",
       "      <td>True</td>\n",
       "      <td>plugs</td>\n",
       "      <td>True</td>\n",
       "      <td>neutral</td>\n",
       "    </tr>\n",
       "    <tr>\n",
       "      <th>16946</th>\n",
       "      <td>2020-08-29 09:51:10.833000</td>\n",
       "      <td>277455263</td>\n",
       "      <td>@TLRailUK now there are far fewer commuters ha...</td>\n",
       "      <td>sprinklr</td>\n",
       "      <td>en</td>\n",
       "      <td>-0.12574</td>\n",
       "      <td>51.50853</td>\n",
       "      <td>f440c7e6-9e2d-31c4-3626-b9d8288cbbe3</td>\n",
       "      <td>NaN</td>\n",
       "      <td>f440c7e6-9e2d-31c4-3626-b9d8288cbbe3</td>\n",
       "      <td>Z003XDCS</td>\n",
       "      <td>True</td>\n",
       "      <td>tables</td>\n",
       "      <td>True</td>\n",
       "      <td>neutral</td>\n",
       "    </tr>\n",
       "    <tr>\n",
       "      <th>16947</th>\n",
       "      <td>2020-11-02 12:06:06.967000</td>\n",
       "      <td>3050957613</td>\n",
       "      <td>@geofftech I am voting for Thameslink. 1. in a...</td>\n",
       "      <td>sprinklr</td>\n",
       "      <td>en</td>\n",
       "      <td>-0.12574</td>\n",
       "      <td>51.50853</td>\n",
       "      <td>859ab156-cad3-3bf0-4b6d-de494b483501</td>\n",
       "      <td>NaN</td>\n",
       "      <td>859ab156-cad3-3bf0-4b6d-de494b483501</td>\n",
       "      <td>Z003XDCS</td>\n",
       "      <td>True</td>\n",
       "      <td>toilets</td>\n",
       "      <td>True</td>\n",
       "      <td>neutral</td>\n",
       "    </tr>\n",
       "    <tr>\n",
       "      <th>16948</th>\n",
       "      <td>2020-11-02 12:06:06.967000</td>\n",
       "      <td>3050957613</td>\n",
       "      <td>@geofftech I am voting for Thameslink. 1. in a...</td>\n",
       "      <td>sprinklr</td>\n",
       "      <td>en</td>\n",
       "      <td>-0.12574</td>\n",
       "      <td>51.50853</td>\n",
       "      <td>859ab156-cad3-3bf0-4b6d-de494b483501</td>\n",
       "      <td>NaN</td>\n",
       "      <td>859ab156-cad3-3bf0-4b6d-de494b483501</td>\n",
       "      <td>Z003XDCS</td>\n",
       "      <td>True</td>\n",
       "      <td>announcements</td>\n",
       "      <td>True</td>\n",
       "      <td>neutral</td>\n",
       "    </tr>\n",
       "  </tbody>\n",
       "</table>\n",
       "<p>16949 rows × 15 columns</p>\n",
       "</div>"
      ],
      "text/plain": [
       "                source_created_at           author_id  \\\n",
       "0      2020-09-18 21:56:20.798000           593731316   \n",
       "1      2020-10-13 07:31:53.122000  745583289520496640   \n",
       "2      2020-10-26 19:27:24.695000           303134761   \n",
       "3      2020-10-26 19:28:49.281000           303134761   \n",
       "4      2020-09-28 11:59:41.212000            56427671   \n",
       "...                           ...                 ...   \n",
       "16944         2019-07-11 07:34:35            24940900   \n",
       "16945  2020-08-10 11:19:10.181000            63559912   \n",
       "16946  2020-08-29 09:51:10.833000           277455263   \n",
       "16947  2020-11-02 12:06:06.967000          3050957613   \n",
       "16948  2020-11-02 12:06:06.967000          3050957613   \n",
       "\n",
       "                                                    text      source language  \\\n",
       "0      @DSisourath The Thameslink core between London...    sprinklr       en   \n",
       "1      @DulwichHistory Loving the complaint about peo...    sprinklr       en   \n",
       "2      @SW_Help .And yet you have no toilets on some ...    sprinklr       en   \n",
       "3      @SW_Help you have no toilets on some of your t...    sprinklr       en   \n",
       "4      @SpeedySticks007 @MrNeilJH @TLRailUK @christia...    sprinklr       en   \n",
       "...                                                  ...         ...      ...   \n",
       "16944  Haha oh man the audio corruption on @TLRailUK ...  brandwatch    en-GB   \n",
       "16945  @TLRailUK SweetIs there a plug to charge my ph...    sprinklr       en   \n",
       "16946  @TLRailUK now there are far fewer commuters ha...    sprinklr       en   \n",
       "16947  @geofftech I am voting for Thameslink. 1. in a...    sprinklr       en   \n",
       "16948  @geofftech I am voting for Thameslink. 1. in a...    sprinklr       en   \n",
       "\n",
       "       longitude  latitude                                    id  \\\n",
       "0       -0.12574  51.50853  acd7673f-e621-5f1a-d662-df278964a6ea   \n",
       "1       -0.12574  51.50853  5b92aba8-4b05-6c63-8485-e9c870742137   \n",
       "2       -0.12574  51.50853  0a799c07-8b76-17ba-b840-e538d51e832d   \n",
       "3       -0.12574  51.50853  8b4d2a34-c4f0-0e19-4055-dfe4af5f0e14   \n",
       "4       -1.09125  50.79899  1fd08862-d8c7-0682-6b11-2603fba22d94   \n",
       "...          ...       ...                                   ...   \n",
       "16944        NaN       NaN  b47948df-1732-7021-ee77-238f839a2ea0   \n",
       "16945   -0.12574  51.50853  bcb3a01a-e58c-e082-3111-10fa77d1a9f7   \n",
       "16946   -0.12574  51.50853  f440c7e6-9e2d-31c4-3626-b9d8288cbbe3   \n",
       "16947   -0.12574  51.50853  859ab156-cad3-3bf0-4b6d-de494b483501   \n",
       "16948   -0.12574  51.50853  859ab156-cad3-3bf0-4b6d-de494b483501   \n",
       "\n",
       "                 source_id                              tweet_id   user_id  \\\n",
       "0                      NaN  acd7673f-e621-5f1a-d662-df278964a6ea  Z003XDCS   \n",
       "1                      NaN  5b92aba8-4b05-6c63-8485-e9c870742137  Z003XDCS   \n",
       "2                      NaN  0a799c07-8b76-17ba-b840-e538d51e832d  Z003XDCS   \n",
       "3                      NaN  8b4d2a34-c4f0-0e19-4055-dfe4af5f0e14  Z003XDCS   \n",
       "4                      NaN  1fd08862-d8c7-0682-6b11-2603fba22d94  Z003XDCS   \n",
       "...                    ...                                   ...       ...   \n",
       "16944  1149220424313708544  b47948df-1732-7021-ee77-238f839a2ea0  Z003XDCS   \n",
       "16945                  NaN  bcb3a01a-e58c-e082-3111-10fa77d1a9f7  Z003XDCS   \n",
       "16946                  NaN  f440c7e6-9e2d-31c4-3626-b9d8288cbbe3  Z003XDCS   \n",
       "16947                  NaN  859ab156-cad3-3bf0-4b6d-de494b483501  Z003XDCS   \n",
       "16948                  NaN  859ab156-cad3-3bf0-4b6d-de494b483501  Z003XDCS   \n",
       "\n",
       "       relevant          topic  ground_truth sentiment  \n",
       "0          True        service          True  negative  \n",
       "1          True         delays          True  negative  \n",
       "2          True        toilets          True  negative  \n",
       "3          True        toilets          True  negative  \n",
       "4          True          seats          True   neutral  \n",
       "...         ...            ...           ...       ...  \n",
       "16944      True  announcements          True   neutral  \n",
       "16945      True          plugs          True   neutral  \n",
       "16946      True         tables          True   neutral  \n",
       "16947      True        toilets          True   neutral  \n",
       "16948      True  announcements          True   neutral  \n",
       "\n",
       "[16949 rows x 15 columns]"
      ]
     },
     "execution_count": 47,
     "metadata": {},
     "output_type": "execute_result"
    }
   ],
   "source": [
    "tweet"
   ]
  },
  {
   "cell_type": "code",
   "execution_count": 48,
   "id": "7e1d66ab",
   "metadata": {},
   "outputs": [],
   "source": [
    "tweet1 = tweet[[\"id\",\"source_created_at\",\"text\",\"sentiment\",\"topic\",\"latitude\",\"longitude\"]]"
   ]
  },
  {
   "cell_type": "code",
   "execution_count": 49,
   "id": "ae3c22f0",
   "metadata": {},
   "outputs": [],
   "source": [
    "tweet1 = tweet1.drop_duplicates(subset=['id'])"
   ]
  },
  {
   "cell_type": "code",
   "execution_count": 50,
   "id": "c50e468b",
   "metadata": {},
   "outputs": [],
   "source": [
    "tweet1[\"latitude\"] = tweet1[\"latitude\"].astype('object', copy=False)\n",
    "tweet1[\"longitude\"] = tweet1[\"longitude\"].astype('object', copy=False)"
   ]
  },
  {
   "cell_type": "code",
   "execution_count": 51,
   "id": "3a043208",
   "metadata": {},
   "outputs": [
    {
     "name": "stdout",
     "output_type": "stream",
     "text": [
      "<class 'pandas.core.frame.DataFrame'>\n",
      "Int64Index: 15749 entries, 0 to 16947\n",
      "Data columns (total 7 columns):\n",
      " #   Column             Non-Null Count  Dtype \n",
      "---  ------             --------------  ----- \n",
      " 0   id                 15749 non-null  object\n",
      " 1   source_created_at  15749 non-null  object\n",
      " 2   text               15749 non-null  object\n",
      " 3   sentiment          15749 non-null  object\n",
      " 4   topic              15749 non-null  object\n",
      " 5   latitude           1308 non-null   object\n",
      " 6   longitude          1308 non-null   object\n",
      "dtypes: object(7)\n",
      "memory usage: 984.3+ KB\n"
     ]
    }
   ],
   "source": [
    "tweet1.info()"
   ]
  },
  {
   "cell_type": "code",
   "execution_count": 52,
   "id": "971e6869",
   "metadata": {},
   "outputs": [],
   "source": [
    "tweet1 = tweet1.fillna(0)"
   ]
  },
  {
   "cell_type": "code",
   "execution_count": 122,
   "id": "27b1f61f",
   "metadata": {},
   "outputs": [],
   "source": [
    "import pyodbc\n",
    "import pandas as pd\n",
    "import numpy as np\n",
    "server = 'mytwitterserver.database.windows.net'\n",
    "database = 'htw-twitter-project-2022'\n",
    "username = 'rashmi'\n",
    "password = '{sahara*6094A}' \n",
    "cnxn = pyodbc.connect('DRIVER={SQL Server};SERVER='+server+';DATABASE='+database+';UID='+username+';PWD='+ password)\n",
    "cursor = cnxn.cursor()\n",
    "# Insert Dataframe into SQL Server:\n",
    "for index, row in tweet1.iterrows():\n",
    "     cursor.execute(\"INSERT INTO dbo.tweet (id,tweet_time,tweet_text,sentiment,topic,latitude,longitude) values(?,?,?,?,?,?,?)\", row.id, row.source_created_at, row.text,row.sentiment,row.topic,row.latitude,row.longitude)\n",
    "cnxn.commit()\n",
    "cursor.close()"
   ]
  },
  {
   "cell_type": "code",
   "execution_count": null,
   "id": "ce2baad6",
   "metadata": {},
   "outputs": [],
   "source": []
  }
 ],
 "metadata": {
  "kernelspec": {
   "display_name": "Python 3 (ipykernel)",
   "language": "python",
   "name": "python3"
  },
  "language_info": {
   "codemirror_mode": {
    "name": "ipython",
    "version": 3
   },
   "file_extension": ".py",
   "mimetype": "text/x-python",
   "name": "python",
   "nbconvert_exporter": "python",
   "pygments_lexer": "ipython3",
   "version": "3.9.7"
  }
 },
 "nbformat": 4,
 "nbformat_minor": 5
}
